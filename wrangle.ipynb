{
 "cells": [
  {
   "cell_type": "markdown",
   "id": "3dc9048a",
   "metadata": {},
   "source": [
    "# Acquire and Prep - Wrangle"
   ]
  },
  {
   "cell_type": "code",
   "execution_count": 1,
   "id": "c6640906",
   "metadata": {},
   "outputs": [],
   "source": [
    "import warnings\n",
    "warnings.filterwarnings(\"ignore\")\n",
    "\n",
    "import pandas as pd\n",
    "import matplotlib.pyplot as plt\n",
    "import seaborn as sns\n",
    "import numpy as np\n",
    "import env\n",
    "from env import host, user, password\n",
    "\n",
    "from sklearn.model_selection import train_test_split\n",
    "\n"
   ]
  },
  {
   "cell_type": "code",
   "execution_count": 2,
   "id": "012d109c",
   "metadata": {},
   "outputs": [],
   "source": [
    "def get_connection(db, user=env.user, host=env.host, password=env.password):\n",
    "    return f'mysql+pymysql://{user}:{password}@{host}/{db}'"
   ]
  },
  {
   "cell_type": "code",
   "execution_count": 3,
   "id": "84b5caca",
   "metadata": {},
   "outputs": [],
   "source": [
    "# function to query database and return zillow df\n",
    "def get_data_from_sql():\n",
    "    query = \"\"\"\n",
    "    SELECT bedroomcnt as bedrooms, bathroomcnt as bathrooms, calculatedfinishedsquarefeet as square_feet, \n",
    "    taxvaluedollarcnt FROM properties_2017\n",
    "    JOIN predictions_2017 as p USING(parcelid)\n",
    "    WHERE transactiondate < '2018-01-01' AND propertylandusetypeid LIKE '261'\n",
    "    \"\"\"\n",
    "    df = pd.read_sql(query, get_connection('zillow'))\n",
    "    return df"
   ]
  },
  {
   "cell_type": "code",
   "execution_count": 4,
   "id": "0a0797cd",
   "metadata": {},
   "outputs": [],
   "source": [
    "df = get_data_from_sql()"
   ]
  },
  {
   "cell_type": "code",
   "execution_count": 5,
   "id": "bf2dd55e",
   "metadata": {},
   "outputs": [
    {
     "data": {
      "text/html": [
       "<div>\n",
       "<style scoped>\n",
       "    .dataframe tbody tr th:only-of-type {\n",
       "        vertical-align: middle;\n",
       "    }\n",
       "\n",
       "    .dataframe tbody tr th {\n",
       "        vertical-align: top;\n",
       "    }\n",
       "\n",
       "    .dataframe thead th {\n",
       "        text-align: right;\n",
       "    }\n",
       "</style>\n",
       "<table border=\"1\" class=\"dataframe\">\n",
       "  <thead>\n",
       "    <tr style=\"text-align: right;\">\n",
       "      <th></th>\n",
       "      <th>bedrooms</th>\n",
       "      <th>bathrooms</th>\n",
       "      <th>square_feet</th>\n",
       "      <th>taxvaluedollarcnt</th>\n",
       "    </tr>\n",
       "  </thead>\n",
       "  <tbody>\n",
       "    <tr>\n",
       "      <th>0</th>\n",
       "      <td>4.0</td>\n",
       "      <td>3.5</td>\n",
       "      <td>3100.0</td>\n",
       "      <td>1023282.0</td>\n",
       "    </tr>\n",
       "    <tr>\n",
       "      <th>1</th>\n",
       "      <td>2.0</td>\n",
       "      <td>1.0</td>\n",
       "      <td>1465.0</td>\n",
       "      <td>464000.0</td>\n",
       "    </tr>\n",
       "    <tr>\n",
       "      <th>2</th>\n",
       "      <td>3.0</td>\n",
       "      <td>2.0</td>\n",
       "      <td>1243.0</td>\n",
       "      <td>564778.0</td>\n",
       "    </tr>\n",
       "    <tr>\n",
       "      <th>3</th>\n",
       "      <td>4.0</td>\n",
       "      <td>3.0</td>\n",
       "      <td>2376.0</td>\n",
       "      <td>145143.0</td>\n",
       "    </tr>\n",
       "    <tr>\n",
       "      <th>4</th>\n",
       "      <td>4.0</td>\n",
       "      <td>3.0</td>\n",
       "      <td>2962.0</td>\n",
       "      <td>773303.0</td>\n",
       "    </tr>\n",
       "  </tbody>\n",
       "</table>\n",
       "</div>"
      ],
      "text/plain": [
       "   bedrooms  bathrooms  square_feet  taxvaluedollarcnt\n",
       "0       4.0        3.5       3100.0          1023282.0\n",
       "1       2.0        1.0       1465.0           464000.0\n",
       "2       3.0        2.0       1243.0           564778.0\n",
       "3       4.0        3.0       2376.0           145143.0\n",
       "4       4.0        3.0       2962.0           773303.0"
      ]
     },
     "execution_count": 5,
     "metadata": {},
     "output_type": "execute_result"
    }
   ],
   "source": [
    "df.head()"
   ]
  },
  {
   "cell_type": "code",
   "execution_count": 6,
   "id": "b1bae737",
   "metadata": {},
   "outputs": [
    {
     "data": {
      "text/plain": [
       "(52441, 4)"
      ]
     },
     "execution_count": 6,
     "metadata": {},
     "output_type": "execute_result"
    }
   ],
   "source": [
    "df.shape\n",
    "\n"
   ]
  },
  {
   "cell_type": "code",
   "execution_count": 7,
   "id": "364b43c8",
   "metadata": {},
   "outputs": [
    {
     "data": {
      "text/html": [
       "<div>\n",
       "<style scoped>\n",
       "    .dataframe tbody tr th:only-of-type {\n",
       "        vertical-align: middle;\n",
       "    }\n",
       "\n",
       "    .dataframe tbody tr th {\n",
       "        vertical-align: top;\n",
       "    }\n",
       "\n",
       "    .dataframe thead th {\n",
       "        text-align: right;\n",
       "    }\n",
       "</style>\n",
       "<table border=\"1\" class=\"dataframe\">\n",
       "  <thead>\n",
       "    <tr style=\"text-align: right;\">\n",
       "      <th></th>\n",
       "      <th>count</th>\n",
       "      <th>mean</th>\n",
       "      <th>std</th>\n",
       "      <th>min</th>\n",
       "      <th>25%</th>\n",
       "      <th>50%</th>\n",
       "      <th>75%</th>\n",
       "      <th>max</th>\n",
       "    </tr>\n",
       "  </thead>\n",
       "  <tbody>\n",
       "    <tr>\n",
       "      <th>bedrooms</th>\n",
       "      <td>52441.0</td>\n",
       "      <td>3.300681</td>\n",
       "      <td>0.949094</td>\n",
       "      <td>0.0</td>\n",
       "      <td>3.0</td>\n",
       "      <td>3.0</td>\n",
       "      <td>4.00</td>\n",
       "      <td>14.0</td>\n",
       "    </tr>\n",
       "    <tr>\n",
       "      <th>bathrooms</th>\n",
       "      <td>52441.0</td>\n",
       "      <td>2.299403</td>\n",
       "      <td>1.022772</td>\n",
       "      <td>0.0</td>\n",
       "      <td>2.0</td>\n",
       "      <td>2.0</td>\n",
       "      <td>3.00</td>\n",
       "      <td>18.0</td>\n",
       "    </tr>\n",
       "    <tr>\n",
       "      <th>square_feet</th>\n",
       "      <td>52359.0</td>\n",
       "      <td>1922.890754</td>\n",
       "      <td>1004.365838</td>\n",
       "      <td>128.0</td>\n",
       "      <td>1268.0</td>\n",
       "      <td>1659.0</td>\n",
       "      <td>2306.00</td>\n",
       "      <td>21929.0</td>\n",
       "    </tr>\n",
       "    <tr>\n",
       "      <th>taxvaluedollarcnt</th>\n",
       "      <td>52440.0</td>\n",
       "      <td>529688.163921</td>\n",
       "      <td>751894.553363</td>\n",
       "      <td>1000.0</td>\n",
       "      <td>193747.5</td>\n",
       "      <td>373612.0</td>\n",
       "      <td>619301.25</td>\n",
       "      <td>49061236.0</td>\n",
       "    </tr>\n",
       "  </tbody>\n",
       "</table>\n",
       "</div>"
      ],
      "text/plain": [
       "                     count           mean            std     min       25%  \\\n",
       "bedrooms           52441.0       3.300681       0.949094     0.0       3.0   \n",
       "bathrooms          52441.0       2.299403       1.022772     0.0       2.0   \n",
       "square_feet        52359.0    1922.890754    1004.365838   128.0    1268.0   \n",
       "taxvaluedollarcnt  52440.0  529688.163921  751894.553363  1000.0  193747.5   \n",
       "\n",
       "                        50%        75%         max  \n",
       "bedrooms                3.0       4.00        14.0  \n",
       "bathrooms               2.0       3.00        18.0  \n",
       "square_feet          1659.0    2306.00     21929.0  \n",
       "taxvaluedollarcnt  373612.0  619301.25  49061236.0  "
      ]
     },
     "execution_count": 7,
     "metadata": {},
     "output_type": "execute_result"
    }
   ],
   "source": [
    "df.describe().T\n",
    "\n"
   ]
  },
  {
   "cell_type": "code",
   "execution_count": 8,
   "id": "619dfe5c",
   "metadata": {},
   "outputs": [
    {
     "name": "stdout",
     "output_type": "stream",
     "text": [
      "<class 'pandas.core.frame.DataFrame'>\n",
      "RangeIndex: 52441 entries, 0 to 52440\n",
      "Data columns (total 4 columns):\n",
      " #   Column             Non-Null Count  Dtype  \n",
      "---  ------             --------------  -----  \n",
      " 0   bedrooms           52441 non-null  float64\n",
      " 1   bathrooms          52441 non-null  float64\n",
      " 2   square_feet        52359 non-null  float64\n",
      " 3   taxvaluedollarcnt  52440 non-null  float64\n",
      "dtypes: float64(4)\n",
      "memory usage: 1.6 MB\n"
     ]
    }
   ],
   "source": [
    "df.info()\n",
    "\n"
   ]
  },
  {
   "cell_type": "code",
   "execution_count": 9,
   "id": "f459dc92",
   "metadata": {},
   "outputs": [
    {
     "data": {
      "text/plain": [
       "bedrooms  bathrooms  square_feet  taxvaluedollarcnt\n",
       "3.0       2.5        1689.0       632000.0             3\n",
       "2.0       1.5        1080.0       137444.0             3\n",
       "3.0       2.0        1541.0       255000.0             3\n",
       "2.0       1.5        1350.0       467000.0             3\n",
       "          1.0        832.0        455000.0             3\n",
       "                                                      ..\n",
       "3.0       2.0        1328.0       521062.0             1\n",
       "                     1329.0       87354.0              1\n",
       "                                  124876.0             1\n",
       "                                  160579.0             1\n",
       "14.0      18.0       18654.0      49061236.0           1\n",
       "Length: 52145, dtype: int64"
      ]
     },
     "execution_count": 9,
     "metadata": {},
     "output_type": "execute_result"
    }
   ],
   "source": [
    "df.value_counts()"
   ]
  },
  {
   "cell_type": "markdown",
   "id": "eb0ff4a4",
   "metadata": {},
   "source": [
    "# Prepare the Data"
   ]
  },
  {
   "cell_type": "code",
   "execution_count": 10,
   "id": "c1a09493",
   "metadata": {},
   "outputs": [
    {
     "data": {
      "text/plain": [
       "bedrooms              0\n",
       "bathrooms             0\n",
       "square_feet          82\n",
       "taxvaluedollarcnt     1\n",
       "dtype: int64"
      ]
     },
     "execution_count": 10,
     "metadata": {},
     "output_type": "execute_result"
    }
   ],
   "source": [
    "# Find the total number of Null values in each column of our DataFrame.\n",
    "\n",
    "df.isnull().sum()"
   ]
  },
  {
   "cell_type": "code",
   "execution_count": 11,
   "id": "89db1def",
   "metadata": {},
   "outputs": [
    {
     "data": {
      "text/plain": [
       "square_feet          82\n",
       "taxvaluedollarcnt     1\n",
       "dtype: int64"
      ]
     },
     "execution_count": 11,
     "metadata": {},
     "output_type": "execute_result"
    }
   ],
   "source": [
    "# Find columns with missing values and the total of missing values.\n",
    "\n",
    "missing = df.isnull().sum()\n",
    "missing[missing > 0]"
   ]
  },
  {
   "cell_type": "code",
   "execution_count": 12,
   "id": "eb8c7ade",
   "metadata": {},
   "outputs": [
    {
     "data": {
      "text/plain": [
       "bedrooms              0\n",
       "bathrooms             0\n",
       "square_feet          82\n",
       "taxvaluedollarcnt     1\n",
       "dtype: int64"
      ]
     },
     "execution_count": 12,
     "metadata": {},
     "output_type": "execute_result"
    }
   ],
   "source": [
    "# show all columns with missing values\n",
    "missing.head()"
   ]
  },
  {
   "cell_type": "code",
   "execution_count": 13,
   "id": "32586f24",
   "metadata": {},
   "outputs": [
    {
     "data": {
      "text/plain": [
       "bedrooms             False\n",
       "bathrooms            False\n",
       "square_feet           True\n",
       "taxvaluedollarcnt     True\n",
       "dtype: bool"
      ]
     },
     "execution_count": 13,
     "metadata": {},
     "output_type": "execute_result"
    }
   ],
   "source": [
    "# Check for any Null values in each column of our DataFrame.\n",
    "\n",
    "df.isnull().any()\n",
    "\n",
    "\n"
   ]
  },
  {
   "cell_type": "code",
   "execution_count": 14,
   "id": "ccbc7560",
   "metadata": {},
   "outputs": [
    {
     "data": {
      "text/plain": [
       "Index(['square_feet', 'taxvaluedollarcnt'], dtype='object')"
      ]
     },
     "execution_count": 14,
     "metadata": {},
     "output_type": "execute_result"
    }
   ],
   "source": [
    "# Return the names for any columns in our DataFrame with any Null values.\n",
    "\n",
    "df.columns[df.isnull().any()]\n",
    "\n",
    "\n"
   ]
  },
  {
   "cell_type": "markdown",
   "id": "427fbf04",
   "metadata": {},
   "source": [
    "Finding Odd Values\n",
    "\n",
    "Let's find the odd value that is causing this numeric column to be coerced into an object data type."
   ]
  },
  {
   "cell_type": "code",
   "execution_count": 15,
   "id": "fd2debb0",
   "metadata": {},
   "outputs": [
    {
     "data": {
      "text/plain": [
       "14.0        1\n",
       "11.0        1\n",
       "10.0        2\n",
       "12.0        3\n",
       "9.0         8\n",
       "8.0        24\n",
       "7.0       106\n",
       "0.0       137\n",
       "1.0       612\n",
       "6.0       635\n",
       "5.0      3973\n",
       "2.0      8340\n",
       "4.0     15240\n",
       "3.0     23359\n",
       "Name: bedrooms, dtype: int64"
      ]
     },
     "execution_count": 15,
     "metadata": {},
     "output_type": "execute_result"
    }
   ],
   "source": [
    "df.bedrooms.value_counts(dropna=False, ascending=True)\n",
    "\n"
   ]
  },
  {
   "cell_type": "code",
   "execution_count": 16,
   "id": "85ce287e",
   "metadata": {},
   "outputs": [
    {
     "data": {
      "text/plain": [
       "3.0     23359\n",
       "4.0     15240\n",
       "2.0      8340\n",
       "5.0      3973\n",
       "6.0       635\n",
       "1.0       612\n",
       "0.0       137\n",
       "7.0       106\n",
       "8.0        24\n",
       "9.0         8\n",
       "12.0        3\n",
       "10.0        2\n",
       "14.0        1\n",
       "11.0        1\n",
       "Name: bedrooms, dtype: int64"
      ]
     },
     "execution_count": 16,
     "metadata": {},
     "output_type": "execute_result"
    }
   ],
   "source": [
    "# check value counts for bedrooms column\n",
    "\n",
    "df['bedrooms'].value_counts(ascending=False)"
   ]
  },
  {
   "cell_type": "code",
   "execution_count": 17,
   "id": "1c6a3438",
   "metadata": {},
   "outputs": [
    {
     "data": {
      "text/plain": [
       "13.0        1\n",
       "18.0        1\n",
       "11.0        3\n",
       "8.5         3\n",
       "10.0        5\n",
       "9.0        13\n",
       "7.5        16\n",
       "6.5        47\n",
       "8.0        53\n",
       "7.0        88\n",
       "0.0       121\n",
       "5.5       224\n",
       "6.0       322\n",
       "4.5       687\n",
       "5.0       803\n",
       "1.5       841\n",
       "3.5       918\n",
       "4.0      2227\n",
       "2.5      3934\n",
       "1.0      9568\n",
       "3.0     10673\n",
       "2.0     21893\n",
       "Name: bathrooms, dtype: int64"
      ]
     },
     "execution_count": 17,
     "metadata": {},
     "output_type": "execute_result"
    }
   ],
   "source": [
    "#check value counts for bathrooms column\n",
    "\n",
    "df['bathrooms'].value_counts(ascending=True)\n",
    "\n",
    "\n"
   ]
  },
  {
   "cell_type": "code",
   "execution_count": 18,
   "id": "b2820e1c",
   "metadata": {},
   "outputs": [],
   "source": [
    "# Replace a whitespace sequence or empty with a NaN value and reassign this manipulation to df.\n",
    "\n",
    "df = df.replace(r'^\\s*$', np.nan, regex=True)"
   ]
  },
  {
   "cell_type": "code",
   "execution_count": 19,
   "id": "bd228863",
   "metadata": {},
   "outputs": [
    {
     "data": {
      "text/plain": [
       "bedrooms             False\n",
       "bathrooms            False\n",
       "square_feet           True\n",
       "taxvaluedollarcnt     True\n",
       "dtype: bool"
      ]
     },
     "execution_count": 19,
     "metadata": {},
     "output_type": "execute_result"
    }
   ],
   "source": [
    "# Now .info() shows us that bedrooms has a Null value instead of a whitespace disguised as a non-null value.\n",
    "\n",
    "df.isnull().any()"
   ]
  },
  {
   "cell_type": "markdown",
   "id": "a966b52a",
   "metadata": {},
   "source": [
    "## Drop Null Values"
   ]
  },
  {
   "cell_type": "code",
   "execution_count": 20,
   "id": "43fe4aa6",
   "metadata": {},
   "outputs": [
    {
     "data": {
      "text/plain": [
       "(52441, 4)"
      ]
     },
     "execution_count": 20,
     "metadata": {},
     "output_type": "execute_result"
    }
   ],
   "source": [
    "df.shape"
   ]
  },
  {
   "cell_type": "code",
   "execution_count": 21,
   "id": "39348344",
   "metadata": {},
   "outputs": [
    {
     "name": "stdout",
     "output_type": "stream",
     "text": [
      "<class 'pandas.core.frame.DataFrame'>\n",
      "Int64Index: 52358 entries, 0 to 52440\n",
      "Data columns (total 4 columns):\n",
      " #   Column             Non-Null Count  Dtype  \n",
      "---  ------             --------------  -----  \n",
      " 0   bedrooms           52358 non-null  float64\n",
      " 1   bathrooms          52358 non-null  float64\n",
      " 2   square_feet        52358 non-null  float64\n",
      " 3   taxvaluedollarcnt  52358 non-null  float64\n",
      "dtypes: float64(4)\n",
      "memory usage: 2.0 MB\n"
     ]
    }
   ],
   "source": [
    "df = df.dropna()\n",
    "df.info()"
   ]
  },
  {
   "cell_type": "code",
   "execution_count": 22,
   "id": "5b094539",
   "metadata": {},
   "outputs": [
    {
     "data": {
      "text/plain": [
       "bedrooms             False\n",
       "bathrooms            False\n",
       "square_feet          False\n",
       "taxvaluedollarcnt    False\n",
       "dtype: bool"
      ]
     },
     "execution_count": 22,
     "metadata": {},
     "output_type": "execute_result"
    }
   ],
   "source": [
    "# confirmation that above code worked to drop nulls\n",
    "df.isnull().any()"
   ]
  },
  {
   "cell_type": "code",
   "execution_count": 23,
   "id": "03dcfc6f",
   "metadata": {},
   "outputs": [
    {
     "data": {
      "text/plain": [
       "(52358, 4)"
      ]
     },
     "execution_count": 23,
     "metadata": {},
     "output_type": "execute_result"
    }
   ],
   "source": [
    "df.shape"
   ]
  },
  {
   "cell_type": "code",
   "execution_count": 24,
   "id": "80e83094",
   "metadata": {},
   "outputs": [],
   "source": [
    "# drop duplicates\n",
    "df = df.drop_duplicates()"
   ]
  },
  {
   "cell_type": "code",
   "execution_count": 25,
   "id": "536b0d73",
   "metadata": {},
   "outputs": [
    {
     "data": {
      "text/plain": [
       "(52145, 4)"
      ]
     },
     "execution_count": 25,
     "metadata": {},
     "output_type": "execute_result"
    }
   ],
   "source": [
    "# confirm cell above that duplicates have been dropped\n",
    "df.shape"
   ]
  },
  {
   "cell_type": "code",
   "execution_count": 26,
   "id": "4a6a97c4",
   "metadata": {},
   "outputs": [],
   "source": [
    "#function to remove outliers in x columns\n",
    "\n",
    "def remove_outliers(df, k, col_list):\n",
    "    ''' \n",
    "    Takes in a df, k, and list of columns returns\n",
    "    a df with removed outliers\n",
    "    '''\n",
    "    \n",
    "    for col in col_list:\n",
    "\n",
    "        q1, q3 = df[col].quantile([.25, .75])  # get quartiles\n",
    "        \n",
    "        iqr = q3 - q1   # calculate interquartile range\n",
    "        \n",
    "        upper_bound = q3 + k * iqr   # get upper bound\n",
    "        lower_bound = q1 - k * iqr   # get lower bound\n",
    "\n",
    "        # return dataframe without outliers\n",
    "        \n",
    "        df = df[(df[col] > lower_bound) & (df[col] < upper_bound)]\n",
    "        \n",
    "    return df"
   ]
  },
  {
   "cell_type": "code",
   "execution_count": 27,
   "id": "e1659a17",
   "metadata": {},
   "outputs": [
    {
     "data": {
      "text/html": [
       "<div>\n",
       "<style scoped>\n",
       "    .dataframe tbody tr th:only-of-type {\n",
       "        vertical-align: middle;\n",
       "    }\n",
       "\n",
       "    .dataframe tbody tr th {\n",
       "        vertical-align: top;\n",
       "    }\n",
       "\n",
       "    .dataframe thead th {\n",
       "        text-align: right;\n",
       "    }\n",
       "</style>\n",
       "<table border=\"1\" class=\"dataframe\">\n",
       "  <thead>\n",
       "    <tr style=\"text-align: right;\">\n",
       "      <th></th>\n",
       "      <th>bedrooms</th>\n",
       "      <th>bathrooms</th>\n",
       "      <th>square_feet</th>\n",
       "      <th>taxvaluedollarcnt</th>\n",
       "    </tr>\n",
       "  </thead>\n",
       "  <tbody>\n",
       "    <tr>\n",
       "      <th>0</th>\n",
       "      <td>4.0</td>\n",
       "      <td>3.5</td>\n",
       "      <td>3100.0</td>\n",
       "      <td>1023282.0</td>\n",
       "    </tr>\n",
       "    <tr>\n",
       "      <th>1</th>\n",
       "      <td>2.0</td>\n",
       "      <td>1.0</td>\n",
       "      <td>1465.0</td>\n",
       "      <td>464000.0</td>\n",
       "    </tr>\n",
       "    <tr>\n",
       "      <th>2</th>\n",
       "      <td>3.0</td>\n",
       "      <td>2.0</td>\n",
       "      <td>1243.0</td>\n",
       "      <td>564778.0</td>\n",
       "    </tr>\n",
       "    <tr>\n",
       "      <th>3</th>\n",
       "      <td>4.0</td>\n",
       "      <td>3.0</td>\n",
       "      <td>2376.0</td>\n",
       "      <td>145143.0</td>\n",
       "    </tr>\n",
       "    <tr>\n",
       "      <th>4</th>\n",
       "      <td>4.0</td>\n",
       "      <td>3.0</td>\n",
       "      <td>2962.0</td>\n",
       "      <td>773303.0</td>\n",
       "    </tr>\n",
       "    <tr>\n",
       "      <th>...</th>\n",
       "      <td>...</td>\n",
       "      <td>...</td>\n",
       "      <td>...</td>\n",
       "      <td>...</td>\n",
       "    </tr>\n",
       "    <tr>\n",
       "      <th>52436</th>\n",
       "      <td>4.0</td>\n",
       "      <td>2.0</td>\n",
       "      <td>1633.0</td>\n",
       "      <td>346534.0</td>\n",
       "    </tr>\n",
       "    <tr>\n",
       "      <th>52437</th>\n",
       "      <td>2.0</td>\n",
       "      <td>2.0</td>\n",
       "      <td>1286.0</td>\n",
       "      <td>354621.0</td>\n",
       "    </tr>\n",
       "    <tr>\n",
       "      <th>52438</th>\n",
       "      <td>4.0</td>\n",
       "      <td>2.0</td>\n",
       "      <td>1612.0</td>\n",
       "      <td>67205.0</td>\n",
       "    </tr>\n",
       "    <tr>\n",
       "      <th>52439</th>\n",
       "      <td>3.0</td>\n",
       "      <td>1.0</td>\n",
       "      <td>1032.0</td>\n",
       "      <td>49546.0</td>\n",
       "    </tr>\n",
       "    <tr>\n",
       "      <th>52440</th>\n",
       "      <td>3.0</td>\n",
       "      <td>2.0</td>\n",
       "      <td>1762.0</td>\n",
       "      <td>522000.0</td>\n",
       "    </tr>\n",
       "  </tbody>\n",
       "</table>\n",
       "<p>45433 rows × 4 columns</p>\n",
       "</div>"
      ],
      "text/plain": [
       "       bedrooms  bathrooms  square_feet  taxvaluedollarcnt\n",
       "0           4.0        3.5       3100.0          1023282.0\n",
       "1           2.0        1.0       1465.0           464000.0\n",
       "2           3.0        2.0       1243.0           564778.0\n",
       "3           4.0        3.0       2376.0           145143.0\n",
       "4           4.0        3.0       2962.0           773303.0\n",
       "...         ...        ...          ...                ...\n",
       "52436       4.0        2.0       1633.0           346534.0\n",
       "52437       2.0        2.0       1286.0           354621.0\n",
       "52438       4.0        2.0       1612.0            67205.0\n",
       "52439       3.0        1.0       1032.0            49546.0\n",
       "52440       3.0        2.0       1762.0           522000.0\n",
       "\n",
       "[45433 rows x 4 columns]"
      ]
     },
     "execution_count": 27,
     "metadata": {},
     "output_type": "execute_result"
    }
   ],
   "source": [
    "# use above function to remove outliers for columns listed and apply to new df\n",
    "df = remove_outliers(df, 1.5, ['bedrooms', 'bathrooms', 'square_feet', 'taxvaluedollarcnt'])\n",
    "df"
   ]
  },
  {
   "cell_type": "code",
   "execution_count": 28,
   "id": "5a60c022",
   "metadata": {},
   "outputs": [
    {
     "data": {
      "text/plain": [
       "(45433, 4)"
      ]
     },
     "execution_count": 28,
     "metadata": {},
     "output_type": "execute_result"
    }
   ],
   "source": [
    "# confirm outliers removed\n",
    "df.shape"
   ]
  },
  {
   "cell_type": "code",
   "execution_count": 29,
   "id": "fcea2d4d",
   "metadata": {},
   "outputs": [
    {
     "name": "stdout",
     "output_type": "stream",
     "text": [
      "<class 'pandas.core.frame.DataFrame'>\n",
      "Int64Index: 45433 entries, 0 to 52440\n",
      "Data columns (total 4 columns):\n",
      " #   Column             Non-Null Count  Dtype\n",
      "---  ------             --------------  -----\n",
      " 0   bedrooms           45433 non-null  int64\n",
      " 1   bathrooms          45433 non-null  int64\n",
      " 2   square_feet        45433 non-null  int64\n",
      " 3   taxvaluedollarcnt  45433 non-null  int64\n",
      "dtypes: int64(4)\n",
      "memory usage: 1.7 MB\n"
     ]
    }
   ],
   "source": [
    "# convert dtypes to int\n",
    "\n",
    "df = df.astype('int')\n",
    "df.info()"
   ]
  },
  {
   "cell_type": "markdown",
   "id": "44c4219c",
   "metadata": {},
   "source": [
    "## Visualize Distributions\n",
    "\n"
   ]
  },
  {
   "cell_type": "code",
   "execution_count": 30,
   "id": "4f646e4e",
   "metadata": {},
   "outputs": [
    {
     "data": {
      "image/png": "[encoded data removed]",
      "text/plain": [
       "<Figure size 1152x216 with 4 Axes>"
      ]
     },
     "metadata": {
      "needs_background": "light"
     },
     "output_type": "display_data"
    }
   ],
   "source": [
    "plt.figure(figsize=(16, 3))\n",
    "\n",
    "# List of columns\n",
    "cols = ['bedrooms', 'bathrooms', 'square_feet','taxvaluedollarcnt']\n",
    "\n",
    "for i, col in enumerate(cols):\n",
    "\n",
    "    # i starts at 0, but plot nos should start at 1\n",
    "    plot_number = i + 1 \n",
    "\n",
    "    # Create subplot.\n",
    "    plt.subplot(1,4, plot_number)\n",
    "\n",
    "    # Title with column name.\n",
    "    plt.title(col)\n",
    "\n",
    "    # Display histogram for column.\n",
    "    df[col].hist(bins=5)\n",
    "\n",
    "    # Hide gridlines.\n",
    "    plt.grid(False)\n",
    "\n"
   ]
  },
  {
   "cell_type": "code",
   "execution_count": 31,
   "id": "2e6ba294",
   "metadata": {},
   "outputs": [
    {
     "data": {
      "image/png": "[encoded data removed]",
      "text/plain": [
       "<Figure size 720x432 with 1 Axes>"
      ]
     },
     "metadata": {
      "needs_background": "light"
     },
     "output_type": "display_data"
    }
   ],
   "source": [
    "plt.figure(figsize=(10,6))\n",
    "\n",
    "# Create boxplots for all.\n",
    "sns.boxplot(data=df)\n",
    "plt.show()"
   ]
  },
  {
   "cell_type": "code",
   "execution_count": 32,
   "id": "ea714c4f",
   "metadata": {},
   "outputs": [],
   "source": [
    "def show_boxplot(df):\n",
    "    ''' Gets boxplots of acquired continuous variables'''\n",
    "    \n",
    "    # List of columns\n",
    "    cols = ['bedrooms', 'bathrooms', 'square_feet', 'taxvaluedollarcnt']\n",
    "\n",
    "    plt.figure(figsize=(16, 3))\n",
    "\n",
    "    for i, col in enumerate(cols):\n",
    "\n",
    "        # i starts at 0, but plot should start at 1\n",
    "        plot_number = i + 1 \n",
    "\n",
    "        # Create subplot.\n",
    "        plt.subplot(1, len(cols), plot_number)\n",
    "\n",
    "        # Title with column name.\n",
    "        plt.title(col)\n",
    "\n",
    "        # Display boxplot for column.\n",
    "        sns.boxplot(data=df[[col]])\n",
    "\n",
    "        # Hide gridlines.\n",
    "        plt.grid(False)\n",
    "\n",
    "        # sets proper spacing between plots\n",
    "        plt.tight_layout()\n",
    "\n",
    "    plt.show()"
   ]
  },
  {
   "cell_type": "code",
   "execution_count": 33,
   "id": "13939665",
   "metadata": {},
   "outputs": [
    {
     "data": {
      "image/png": "[encoded data removed]",
      "text/plain": [
       "<Figure size 1152x216 with 4 Axes>"
      ]
     },
     "metadata": {
      "needs_background": "light"
     },
     "output_type": "display_data"
    }
   ],
   "source": [
    "show_boxplot(df)"
   ]
  },
  {
   "cell_type": "markdown",
   "id": "c949b964",
   "metadata": {},
   "source": [
    "## Create function for acquire and prep\n"
   ]
  },
  {
   "cell_type": "code",
   "execution_count": 34,
   "id": "8b997077",
   "metadata": {},
   "outputs": [],
   "source": [
    "#will update\n",
    "\n",
    "def wrangle_zillow():\n",
    "    '''\n",
    "    Read student_grades csv file into a pandas DataFrame,\n",
    "    drop student_id column, replace whitespaces with NaN values,\n",
    "    drop any rows with Null values, convert all columns to int64,\n",
    "    return cleaned student grades DataFrame.\n",
    "    '''\n",
    "    # Acquire data from csv file.\n",
    "    df = get_data_from_sql()\n",
    "    \n",
    "    # Replace white space values with NaN values.\n",
    "    df = df.replace(r'^\\s*$', np.nan, regex=True)\n",
    "    \n",
    "    # Drop any Duplicates\n",
    "    df = df.drop_duplicates()\n",
    "\n",
    "    # Drop all rows with NaN values.\n",
    "    df = df[df.bathrooms != 0]\n",
    "    df = df[df.bedrooms != 0]\n",
    "    \n",
    "    # Remove Outliers\n",
    "    df = remove_outliers(df, 1.5, ['bedrooms', 'bathrooms', 'square_feet', 'taxvaluedollarcnt'])\n",
    "\n",
    "\n",
    "    # clean data with split\n",
    "    train, test = train_test_split(df, test_size = .2, random_state = 123)\n",
    "    train, validate = train_test_split(train, test_size = .3, random_state = 123)\n",
    "    \n",
    "    return df "
   ]
  },
  {
   "cell_type": "code",
   "execution_count": 35,
   "id": "6c680e3d",
   "metadata": {},
   "outputs": [],
   "source": [
    "wrangle_zillow = wrangle_zillow()"
   ]
  },
  {
   "cell_type": "code",
   "execution_count": 36,
   "id": "bafb8046",
   "metadata": {},
   "outputs": [
    {
     "data": {
      "text/html": [
       "<div>\n",
       "<style scoped>\n",
       "    .dataframe tbody tr th:only-of-type {\n",
       "        vertical-align: middle;\n",
       "    }\n",
       "\n",
       "    .dataframe tbody tr th {\n",
       "        vertical-align: top;\n",
       "    }\n",
       "\n",
       "    .dataframe thead th {\n",
       "        text-align: right;\n",
       "    }\n",
       "</style>\n",
       "<table border=\"1\" class=\"dataframe\">\n",
       "  <thead>\n",
       "    <tr style=\"text-align: right;\">\n",
       "      <th></th>\n",
       "      <th>bedrooms</th>\n",
       "      <th>bathrooms</th>\n",
       "      <th>square_feet</th>\n",
       "      <th>taxvaluedollarcnt</th>\n",
       "    </tr>\n",
       "  </thead>\n",
       "  <tbody>\n",
       "    <tr>\n",
       "      <th>0</th>\n",
       "      <td>4.0</td>\n",
       "      <td>3.5</td>\n",
       "      <td>3100.0</td>\n",
       "      <td>1023282.0</td>\n",
       "    </tr>\n",
       "    <tr>\n",
       "      <th>1</th>\n",
       "      <td>2.0</td>\n",
       "      <td>1.0</td>\n",
       "      <td>1465.0</td>\n",
       "      <td>464000.0</td>\n",
       "    </tr>\n",
       "    <tr>\n",
       "      <th>2</th>\n",
       "      <td>3.0</td>\n",
       "      <td>2.0</td>\n",
       "      <td>1243.0</td>\n",
       "      <td>564778.0</td>\n",
       "    </tr>\n",
       "    <tr>\n",
       "      <th>3</th>\n",
       "      <td>4.0</td>\n",
       "      <td>3.0</td>\n",
       "      <td>2376.0</td>\n",
       "      <td>145143.0</td>\n",
       "    </tr>\n",
       "    <tr>\n",
       "      <th>4</th>\n",
       "      <td>4.0</td>\n",
       "      <td>3.0</td>\n",
       "      <td>2962.0</td>\n",
       "      <td>773303.0</td>\n",
       "    </tr>\n",
       "  </tbody>\n",
       "</table>\n",
       "</div>"
      ],
      "text/plain": [
       "   bedrooms  bathrooms  square_feet  taxvaluedollarcnt\n",
       "0       4.0        3.5       3100.0          1023282.0\n",
       "1       2.0        1.0       1465.0           464000.0\n",
       "2       3.0        2.0       1243.0           564778.0\n",
       "3       4.0        3.0       2376.0           145143.0\n",
       "4       4.0        3.0       2962.0           773303.0"
      ]
     },
     "execution_count": 36,
     "metadata": {},
     "output_type": "execute_result"
    }
   ],
   "source": [
    "wrangle_zillow.head()"
   ]
  },
  {
   "cell_type": "code",
   "execution_count": 37,
   "id": "571fcbd9",
   "metadata": {},
   "outputs": [
    {
     "name": "stdout",
     "output_type": "stream",
     "text": [
      "<class 'pandas.core.frame.DataFrame'>\n",
      "Int64Index: 45433 entries, 0 to 52440\n",
      "Data columns (total 4 columns):\n",
      " #   Column             Non-Null Count  Dtype  \n",
      "---  ------             --------------  -----  \n",
      " 0   bedrooms           45433 non-null  float64\n",
      " 1   bathrooms          45433 non-null  float64\n",
      " 2   square_feet        45433 non-null  float64\n",
      " 3   taxvaluedollarcnt  45433 non-null  float64\n",
      "dtypes: float64(4)\n",
      "memory usage: 1.7 MB\n"
     ]
    }
   ],
   "source": [
    "wrangle_zillow.info()"
   ]
  },
  {
   "cell_type": "code",
   "execution_count": 38,
   "id": "d304e43f",
   "metadata": {},
   "outputs": [
    {
     "data": {
      "text/html": [
       "<div>\n",
       "<style scoped>\n",
       "    .dataframe tbody tr th:only-of-type {\n",
       "        vertical-align: middle;\n",
       "    }\n",
       "\n",
       "    .dataframe tbody tr th {\n",
       "        vertical-align: top;\n",
       "    }\n",
       "\n",
       "    .dataframe thead th {\n",
       "        text-align: right;\n",
       "    }\n",
       "</style>\n",
       "<table border=\"1\" class=\"dataframe\">\n",
       "  <thead>\n",
       "    <tr style=\"text-align: right;\">\n",
       "      <th></th>\n",
       "      <th>bedrooms</th>\n",
       "      <th>bathrooms</th>\n",
       "      <th>square_feet</th>\n",
       "      <th>taxvaluedollarcnt</th>\n",
       "    </tr>\n",
       "  </thead>\n",
       "  <tbody>\n",
       "    <tr>\n",
       "      <th>count</th>\n",
       "      <td>45433.000000</td>\n",
       "      <td>45433.000000</td>\n",
       "      <td>45433.000000</td>\n",
       "      <td>4.543300e+04</td>\n",
       "    </tr>\n",
       "    <tr>\n",
       "      <th>mean</th>\n",
       "      <td>3.213391</td>\n",
       "      <td>2.105716</td>\n",
       "      <td>1706.263971</td>\n",
       "      <td>3.732971e+05</td>\n",
       "    </tr>\n",
       "    <tr>\n",
       "      <th>std</th>\n",
       "      <td>0.790168</td>\n",
       "      <td>0.729201</td>\n",
       "      <td>613.431857</td>\n",
       "      <td>2.446075e+05</td>\n",
       "    </tr>\n",
       "    <tr>\n",
       "      <th>min</th>\n",
       "      <td>2.000000</td>\n",
       "      <td>1.000000</td>\n",
       "      <td>152.000000</td>\n",
       "      <td>1.000000e+03</td>\n",
       "    </tr>\n",
       "    <tr>\n",
       "      <th>25%</th>\n",
       "      <td>3.000000</td>\n",
       "      <td>2.000000</td>\n",
       "      <td>1242.000000</td>\n",
       "      <td>1.746930e+05</td>\n",
       "    </tr>\n",
       "    <tr>\n",
       "      <th>50%</th>\n",
       "      <td>3.000000</td>\n",
       "      <td>2.000000</td>\n",
       "      <td>1576.000000</td>\n",
       "      <td>3.370340e+05</td>\n",
       "    </tr>\n",
       "    <tr>\n",
       "      <th>75%</th>\n",
       "      <td>4.000000</td>\n",
       "      <td>2.500000</td>\n",
       "      <td>2070.000000</td>\n",
       "      <td>5.221500e+05</td>\n",
       "    </tr>\n",
       "    <tr>\n",
       "      <th>max</th>\n",
       "      <td>5.000000</td>\n",
       "      <td>4.000000</td>\n",
       "      <td>3568.000000</td>\n",
       "      <td>1.124001e+06</td>\n",
       "    </tr>\n",
       "  </tbody>\n",
       "</table>\n",
       "</div>"
      ],
      "text/plain": [
       "           bedrooms     bathrooms   square_feet  taxvaluedollarcnt\n",
       "count  45433.000000  45433.000000  45433.000000       4.543300e+04\n",
       "mean       3.213391      2.105716   1706.263971       3.732971e+05\n",
       "std        0.790168      0.729201    613.431857       2.446075e+05\n",
       "min        2.000000      1.000000    152.000000       1.000000e+03\n",
       "25%        3.000000      2.000000   1242.000000       1.746930e+05\n",
       "50%        3.000000      2.000000   1576.000000       3.370340e+05\n",
       "75%        4.000000      2.500000   2070.000000       5.221500e+05\n",
       "max        5.000000      4.000000   3568.000000       1.124001e+06"
      ]
     },
     "execution_count": 38,
     "metadata": {},
     "output_type": "execute_result"
    }
   ],
   "source": [
    "wrangle_zillow.describe()"
   ]
  },
  {
   "cell_type": "code",
   "execution_count": 39,
   "id": "0f4d1319",
   "metadata": {},
   "outputs": [
    {
     "data": {
      "text/plain": [
       "(45433, 4)"
      ]
     },
     "execution_count": 39,
     "metadata": {},
     "output_type": "execute_result"
    }
   ],
   "source": [
    "wrangle_zillow.shape"
   ]
  },
  {
   "cell_type": "code",
   "execution_count": 40,
   "id": "361bf694",
   "metadata": {},
   "outputs": [],
   "source": [
    "## For Splitting:\n",
    "\n",
    "# Only use train for exploration and for fitting\n",
    "# Only use validate to validate models after fitting on train\n",
    "# Only use test to test best model \n",
    "\n",
    "# Split data\n",
    "\n",
    "# 20% test, 80% train_validate\n",
    "# then of the 80% train_validate: 30% validate, 70% train.\n",
    "\n",
    "train, test = train_test_split(wrangle_zillow, test_size = .2, random_state = 123)\n",
    "train, validate = train_test_split(train, test_size = .3, random_state = 123)\n",
    "\n"
   ]
  },
  {
   "cell_type": "code",
   "execution_count": 41,
   "id": "10d65992",
   "metadata": {},
   "outputs": [
    {
     "name": "stdout",
     "output_type": "stream",
     "text": [
      "train -> (25442, 4)\n",
      "validate -> (10904, 4)\n",
      "test -> (9087, 4)\n"
     ]
    }
   ],
   "source": [
    "# Validate my split.\n",
    "\n",
    "print(f'train -> {train.shape}')\n",
    "print(f'validate -> {validate.shape}')\n",
    "print(f'test -> {test.shape}')"
   ]
  },
  {
   "cell_type": "code",
   "execution_count": 42,
   "id": "30427afb",
   "metadata": {},
   "outputs": [],
   "source": [
    "def split_data(df):\n",
    "    '''\n",
    "    take in a DataFrame and return train, validate, and test DataFrames\n",
    "    return train, validate, test DataFrames.\n",
    "    '''\n",
    "    train, test = train_test_split(wrangle_zillow, test_size = .2, random_state = 222)\n",
    "    train, validate = train_test_split(train, test_size = .3, random_state = 222)\n",
    "    \n",
    "    return train, validate, test"
   ]
  },
  {
   "cell_type": "code",
   "execution_count": 43,
   "id": "c2ea1bd7",
   "metadata": {},
   "outputs": [],
   "source": [
    "train, validate, test = split_data(wrangle_zillow)\n",
    "\n"
   ]
  },
  {
   "cell_type": "code",
   "execution_count": 44,
   "id": "3005eaba",
   "metadata": {},
   "outputs": [
    {
     "name": "stdout",
     "output_type": "stream",
     "text": [
      "train -> (25442, 4)\n",
      "validate -> (10904, 4)\n",
      "test -> (9087, 4)\n"
     ]
    }
   ],
   "source": [
    "print(f'train -> {train.shape}')\n",
    "print(f'validate -> {validate.shape}')\n",
    "print(f'test -> {test.shape}')"
   ]
  },
  {
   "cell_type": "code",
   "execution_count": 45,
   "id": "f113a6cf",
   "metadata": {},
   "outputs": [
    {
     "data": {
      "text/html": [
       "<div>\n",
       "<style scoped>\n",
       "    .dataframe tbody tr th:only-of-type {\n",
       "        vertical-align: middle;\n",
       "    }\n",
       "\n",
       "    .dataframe tbody tr th {\n",
       "        vertical-align: top;\n",
       "    }\n",
       "\n",
       "    .dataframe thead th {\n",
       "        text-align: right;\n",
       "    }\n",
       "</style>\n",
       "<table border=\"1\" class=\"dataframe\">\n",
       "  <thead>\n",
       "    <tr style=\"text-align: right;\">\n",
       "      <th></th>\n",
       "      <th>bedrooms</th>\n",
       "      <th>bathrooms</th>\n",
       "      <th>square_feet</th>\n",
       "      <th>taxvaluedollarcnt</th>\n",
       "    </tr>\n",
       "  </thead>\n",
       "  <tbody>\n",
       "    <tr>\n",
       "      <th>16190</th>\n",
       "      <td>2.0</td>\n",
       "      <td>1.5</td>\n",
       "      <td>1248.0</td>\n",
       "      <td>190289.0</td>\n",
       "    </tr>\n",
       "    <tr>\n",
       "      <th>36908</th>\n",
       "      <td>3.0</td>\n",
       "      <td>2.0</td>\n",
       "      <td>1408.0</td>\n",
       "      <td>109487.0</td>\n",
       "    </tr>\n",
       "    <tr>\n",
       "      <th>8097</th>\n",
       "      <td>3.0</td>\n",
       "      <td>1.5</td>\n",
       "      <td>1032.0</td>\n",
       "      <td>248300.0</td>\n",
       "    </tr>\n",
       "    <tr>\n",
       "      <th>38541</th>\n",
       "      <td>3.0</td>\n",
       "      <td>2.0</td>\n",
       "      <td>986.0</td>\n",
       "      <td>145660.0</td>\n",
       "    </tr>\n",
       "    <tr>\n",
       "      <th>618</th>\n",
       "      <td>3.0</td>\n",
       "      <td>1.0</td>\n",
       "      <td>948.0</td>\n",
       "      <td>224273.0</td>\n",
       "    </tr>\n",
       "  </tbody>\n",
       "</table>\n",
       "</div>"
      ],
      "text/plain": [
       "       bedrooms  bathrooms  square_feet  taxvaluedollarcnt\n",
       "16190       2.0        1.5       1248.0           190289.0\n",
       "36908       3.0        2.0       1408.0           109487.0\n",
       "8097        3.0        1.5       1032.0           248300.0\n",
       "38541       3.0        2.0        986.0           145660.0\n",
       "618         3.0        1.0        948.0           224273.0"
      ]
     },
     "execution_count": 45,
     "metadata": {},
     "output_type": "execute_result"
    }
   ],
   "source": [
    "train.head()"
   ]
  },
  {
   "cell_type": "code",
   "execution_count": 46,
   "id": "91cd7cad",
   "metadata": {},
   "outputs": [
    {
     "data": {
      "text/plain": [
       "(25442, 4)"
      ]
     },
     "execution_count": 46,
     "metadata": {},
     "output_type": "execute_result"
    }
   ],
   "source": [
    "train.shape"
   ]
  },
  {
   "cell_type": "code",
   "execution_count": 47,
   "id": "8f414842",
   "metadata": {},
   "outputs": [],
   "source": [
    "x_train = train[[\"bedrooms\", \"bathrooms\", \"square_feet\"]]\n",
    "y_train = train[[\"taxvaluedollarcnt\"]]\n",
    "x_test = test[[\"bedrooms\", \"bathrooms\", \"square_feet\"]]\n",
    "y_test = test[[\"taxvaluedollarcnt\"]]"
   ]
  },
  {
   "cell_type": "code",
   "execution_count": 48,
   "id": "3643c69a",
   "metadata": {},
   "outputs": [
    {
     "data": {
      "text/html": [
       "<div>\n",
       "<style scoped>\n",
       "    .dataframe tbody tr th:only-of-type {\n",
       "        vertical-align: middle;\n",
       "    }\n",
       "\n",
       "    .dataframe tbody tr th {\n",
       "        vertical-align: top;\n",
       "    }\n",
       "\n",
       "    .dataframe thead th {\n",
       "        text-align: right;\n",
       "    }\n",
       "</style>\n",
       "<table border=\"1\" class=\"dataframe\">\n",
       "  <thead>\n",
       "    <tr style=\"text-align: right;\">\n",
       "      <th></th>\n",
       "      <th>actual</th>\n",
       "    </tr>\n",
       "  </thead>\n",
       "  <tbody>\n",
       "    <tr>\n",
       "      <th>0</th>\n",
       "      <td>190289.0</td>\n",
       "    </tr>\n",
       "    <tr>\n",
       "      <th>1</th>\n",
       "      <td>109487.0</td>\n",
       "    </tr>\n",
       "    <tr>\n",
       "      <th>2</th>\n",
       "      <td>248300.0</td>\n",
       "    </tr>\n",
       "    <tr>\n",
       "      <th>3</th>\n",
       "      <td>145660.0</td>\n",
       "    </tr>\n",
       "    <tr>\n",
       "      <th>4</th>\n",
       "      <td>224273.0</td>\n",
       "    </tr>\n",
       "  </tbody>\n",
       "</table>\n",
       "</div>"
      ],
      "text/plain": [
       "     actual\n",
       "0  190289.0\n",
       "1  109487.0\n",
       "2  248300.0\n",
       "3  145660.0\n",
       "4  224273.0"
      ]
     },
     "execution_count": 48,
     "metadata": {},
     "output_type": "execute_result"
    }
   ],
   "source": [
    "predictions=pd.DataFrame({'actual':y_train.taxvaluedollarcnt}).reset_index(drop=True)\n",
    "predictions.head()"
   ]
  },
  {
   "cell_type": "code",
   "execution_count": null,
   "id": "e803ccb5",
   "metadata": {},
   "outputs": [],
   "source": []
  },
  {
   "cell_type": "code",
   "execution_count": null,
   "id": "707ba6cf",
   "metadata": {},
   "outputs": [],
   "source": []
  },
  {
   "cell_type": "code",
   "execution_count": null,
   "id": "7e53544e",
   "metadata": {},
   "outputs": [],
   "source": []
  },
  {
   "cell_type": "markdown",
   "id": "d298b608",
   "metadata": {},
   "source": [
    "# Exploration\n",
    "\n"
   ]
  },
  {
   "cell_type": "markdown",
   "id": "e01998cb",
   "metadata": {},
   "source": [
    "- What is the relationship between square feet and taxvaluedollarcount?\n",
    "    - Is it a linear relationship or is there no relationship?\n",
    "    \n",
    "- What is the relationship between bedroom count and taxvaluedollarcount?\n",
    "\n",
    "- What is the relationship between bathroom count and taxvaluedollarcount?\n",
    "\n",
    "- What is the relationship between bedroom \n"
   ]
  },
  {
   "cell_type": "code",
   "execution_count": 49,
   "id": "26f4673a",
   "metadata": {},
   "outputs": [],
   "source": [
    "from scipy import stats\n"
   ]
  },
  {
   "cell_type": "code",
   "execution_count": 50,
   "id": "a0d5241a",
   "metadata": {},
   "outputs": [
    {
     "name": "stdout",
     "output_type": "stream",
     "text": [
      "Reject the null hypothesis that taxvaluedollarcnt and bedrooms are independent\n",
      "Sufficient evidence to move forward understanding that there is a relationship between taxvaluedollarcnt and bedrooms\n"
     ]
    }
   ],
   "source": [
    "# Let's run a chi squared to compare proportions, to have more confidence\n",
    "alpha = 0.05\n",
    "\n",
    "null_hypothesis = \"taxvaluedollarcnt and bedrooms are independent\"\n",
    "alternative_hypothesis = \"there is a relationship between taxvaluedollarcnt and bedrooms\"\n",
    "\n",
    "# Setup a crosstab of taxval to bedrooms\n",
    "observed = pd.crosstab(train.square_feet, train.taxvaluedollarcnt)\n",
    "\n",
    "chi2, p, degf, expected = stats.chi2_contingency(observed)\n",
    "\n",
    "if p < alpha:\n",
    "    print(\"Reject the null hypothesis that\", null_hypothesis)\n",
    "    print(\"Sufficient evidence to move forward understanding that\", alternative_hypothesis)\n",
    "else:\n",
    "    print(\"Fail to reject the null\")\n",
    "    print(\"Insufficient evidence to reject the null\")"
   ]
  },
  {
   "cell_type": "code",
   "execution_count": 51,
   "id": "7e687ba3",
   "metadata": {},
   "outputs": [
    {
     "data": {
      "text/html": [
       "<div>\n",
       "<style scoped>\n",
       "    .dataframe tbody tr th:only-of-type {\n",
       "        vertical-align: middle;\n",
       "    }\n",
       "\n",
       "    .dataframe tbody tr th {\n",
       "        vertical-align: top;\n",
       "    }\n",
       "\n",
       "    .dataframe thead th {\n",
       "        text-align: right;\n",
       "    }\n",
       "</style>\n",
       "<table border=\"1\" class=\"dataframe\">\n",
       "  <thead>\n",
       "    <tr style=\"text-align: right;\">\n",
       "      <th>taxvaluedollarcnt</th>\n",
       "      <th>10504.0</th>\n",
       "      <th>13199.0</th>\n",
       "      <th>13352.0</th>\n",
       "      <th>13524.0</th>\n",
       "      <th>13820.0</th>\n",
       "      <th>14231.0</th>\n",
       "      <th>14577.0</th>\n",
       "      <th>15433.0</th>\n",
       "      <th>15692.0</th>\n",
       "      <th>15890.0</th>\n",
       "      <th>...</th>\n",
       "      <th>1119396.0</th>\n",
       "      <th>1119792.0</th>\n",
       "      <th>1120000.0</th>\n",
       "      <th>1120145.0</th>\n",
       "      <th>1120474.0</th>\n",
       "      <th>1122000.0</th>\n",
       "      <th>1122411.0</th>\n",
       "      <th>1123133.0</th>\n",
       "      <th>1123324.0</th>\n",
       "      <th>1124001.0</th>\n",
       "    </tr>\n",
       "    <tr>\n",
       "      <th>square_feet</th>\n",
       "      <th></th>\n",
       "      <th></th>\n",
       "      <th></th>\n",
       "      <th></th>\n",
       "      <th></th>\n",
       "      <th></th>\n",
       "      <th></th>\n",
       "      <th></th>\n",
       "      <th></th>\n",
       "      <th></th>\n",
       "      <th></th>\n",
       "      <th></th>\n",
       "      <th></th>\n",
       "      <th></th>\n",
       "      <th></th>\n",
       "      <th></th>\n",
       "      <th></th>\n",
       "      <th></th>\n",
       "      <th></th>\n",
       "      <th></th>\n",
       "      <th></th>\n",
       "    </tr>\n",
       "  </thead>\n",
       "  <tbody>\n",
       "    <tr>\n",
       "      <th>152.0</th>\n",
       "      <td>0</td>\n",
       "      <td>0</td>\n",
       "      <td>0</td>\n",
       "      <td>0</td>\n",
       "      <td>0</td>\n",
       "      <td>0</td>\n",
       "      <td>0</td>\n",
       "      <td>0</td>\n",
       "      <td>0</td>\n",
       "      <td>0</td>\n",
       "      <td>...</td>\n",
       "      <td>0</td>\n",
       "      <td>0</td>\n",
       "      <td>0</td>\n",
       "      <td>0</td>\n",
       "      <td>0</td>\n",
       "      <td>0</td>\n",
       "      <td>0</td>\n",
       "      <td>0</td>\n",
       "      <td>0</td>\n",
       "      <td>0</td>\n",
       "    </tr>\n",
       "    <tr>\n",
       "      <th>326.0</th>\n",
       "      <td>0</td>\n",
       "      <td>0</td>\n",
       "      <td>0</td>\n",
       "      <td>0</td>\n",
       "      <td>0</td>\n",
       "      <td>0</td>\n",
       "      <td>0</td>\n",
       "      <td>0</td>\n",
       "      <td>0</td>\n",
       "      <td>0</td>\n",
       "      <td>...</td>\n",
       "      <td>0</td>\n",
       "      <td>0</td>\n",
       "      <td>0</td>\n",
       "      <td>0</td>\n",
       "      <td>0</td>\n",
       "      <td>0</td>\n",
       "      <td>0</td>\n",
       "      <td>0</td>\n",
       "      <td>0</td>\n",
       "      <td>0</td>\n",
       "    </tr>\n",
       "    <tr>\n",
       "      <th>480.0</th>\n",
       "      <td>0</td>\n",
       "      <td>0</td>\n",
       "      <td>0</td>\n",
       "      <td>0</td>\n",
       "      <td>0</td>\n",
       "      <td>0</td>\n",
       "      <td>0</td>\n",
       "      <td>0</td>\n",
       "      <td>0</td>\n",
       "      <td>0</td>\n",
       "      <td>...</td>\n",
       "      <td>0</td>\n",
       "      <td>0</td>\n",
       "      <td>0</td>\n",
       "      <td>0</td>\n",
       "      <td>0</td>\n",
       "      <td>0</td>\n",
       "      <td>0</td>\n",
       "      <td>0</td>\n",
       "      <td>0</td>\n",
       "      <td>0</td>\n",
       "    </tr>\n",
       "    <tr>\n",
       "      <th>500.0</th>\n",
       "      <td>0</td>\n",
       "      <td>0</td>\n",
       "      <td>0</td>\n",
       "      <td>0</td>\n",
       "      <td>0</td>\n",
       "      <td>0</td>\n",
       "      <td>0</td>\n",
       "      <td>0</td>\n",
       "      <td>0</td>\n",
       "      <td>0</td>\n",
       "      <td>...</td>\n",
       "      <td>0</td>\n",
       "      <td>0</td>\n",
       "      <td>0</td>\n",
       "      <td>0</td>\n",
       "      <td>0</td>\n",
       "      <td>0</td>\n",
       "      <td>0</td>\n",
       "      <td>0</td>\n",
       "      <td>0</td>\n",
       "      <td>0</td>\n",
       "    </tr>\n",
       "    <tr>\n",
       "      <th>504.0</th>\n",
       "      <td>0</td>\n",
       "      <td>0</td>\n",
       "      <td>0</td>\n",
       "      <td>0</td>\n",
       "      <td>0</td>\n",
       "      <td>0</td>\n",
       "      <td>0</td>\n",
       "      <td>0</td>\n",
       "      <td>0</td>\n",
       "      <td>0</td>\n",
       "      <td>...</td>\n",
       "      <td>0</td>\n",
       "      <td>0</td>\n",
       "      <td>0</td>\n",
       "      <td>0</td>\n",
       "      <td>0</td>\n",
       "      <td>0</td>\n",
       "      <td>0</td>\n",
       "      <td>0</td>\n",
       "      <td>0</td>\n",
       "      <td>0</td>\n",
       "    </tr>\n",
       "    <tr>\n",
       "      <th>...</th>\n",
       "      <td>...</td>\n",
       "      <td>...</td>\n",
       "      <td>...</td>\n",
       "      <td>...</td>\n",
       "      <td>...</td>\n",
       "      <td>...</td>\n",
       "      <td>...</td>\n",
       "      <td>...</td>\n",
       "      <td>...</td>\n",
       "      <td>...</td>\n",
       "      <td>...</td>\n",
       "      <td>...</td>\n",
       "      <td>...</td>\n",
       "      <td>...</td>\n",
       "      <td>...</td>\n",
       "      <td>...</td>\n",
       "      <td>...</td>\n",
       "      <td>...</td>\n",
       "      <td>...</td>\n",
       "      <td>...</td>\n",
       "      <td>...</td>\n",
       "    </tr>\n",
       "    <tr>\n",
       "      <th>3562.0</th>\n",
       "      <td>0</td>\n",
       "      <td>0</td>\n",
       "      <td>0</td>\n",
       "      <td>0</td>\n",
       "      <td>0</td>\n",
       "      <td>0</td>\n",
       "      <td>0</td>\n",
       "      <td>0</td>\n",
       "      <td>0</td>\n",
       "      <td>0</td>\n",
       "      <td>...</td>\n",
       "      <td>0</td>\n",
       "      <td>0</td>\n",
       "      <td>0</td>\n",
       "      <td>0</td>\n",
       "      <td>0</td>\n",
       "      <td>0</td>\n",
       "      <td>0</td>\n",
       "      <td>0</td>\n",
       "      <td>0</td>\n",
       "      <td>0</td>\n",
       "    </tr>\n",
       "    <tr>\n",
       "      <th>3563.0</th>\n",
       "      <td>0</td>\n",
       "      <td>0</td>\n",
       "      <td>0</td>\n",
       "      <td>0</td>\n",
       "      <td>0</td>\n",
       "      <td>0</td>\n",
       "      <td>0</td>\n",
       "      <td>0</td>\n",
       "      <td>0</td>\n",
       "      <td>0</td>\n",
       "      <td>...</td>\n",
       "      <td>0</td>\n",
       "      <td>0</td>\n",
       "      <td>0</td>\n",
       "      <td>0</td>\n",
       "      <td>0</td>\n",
       "      <td>0</td>\n",
       "      <td>0</td>\n",
       "      <td>0</td>\n",
       "      <td>0</td>\n",
       "      <td>0</td>\n",
       "    </tr>\n",
       "    <tr>\n",
       "      <th>3564.0</th>\n",
       "      <td>0</td>\n",
       "      <td>0</td>\n",
       "      <td>0</td>\n",
       "      <td>0</td>\n",
       "      <td>0</td>\n",
       "      <td>0</td>\n",
       "      <td>0</td>\n",
       "      <td>0</td>\n",
       "      <td>0</td>\n",
       "      <td>0</td>\n",
       "      <td>...</td>\n",
       "      <td>0</td>\n",
       "      <td>0</td>\n",
       "      <td>0</td>\n",
       "      <td>0</td>\n",
       "      <td>0</td>\n",
       "      <td>0</td>\n",
       "      <td>0</td>\n",
       "      <td>0</td>\n",
       "      <td>0</td>\n",
       "      <td>0</td>\n",
       "    </tr>\n",
       "    <tr>\n",
       "      <th>3566.0</th>\n",
       "      <td>0</td>\n",
       "      <td>0</td>\n",
       "      <td>0</td>\n",
       "      <td>0</td>\n",
       "      <td>0</td>\n",
       "      <td>0</td>\n",
       "      <td>0</td>\n",
       "      <td>0</td>\n",
       "      <td>0</td>\n",
       "      <td>0</td>\n",
       "      <td>...</td>\n",
       "      <td>0</td>\n",
       "      <td>0</td>\n",
       "      <td>0</td>\n",
       "      <td>0</td>\n",
       "      <td>0</td>\n",
       "      <td>0</td>\n",
       "      <td>0</td>\n",
       "      <td>0</td>\n",
       "      <td>0</td>\n",
       "      <td>0</td>\n",
       "    </tr>\n",
       "    <tr>\n",
       "      <th>3568.0</th>\n",
       "      <td>0</td>\n",
       "      <td>0</td>\n",
       "      <td>0</td>\n",
       "      <td>0</td>\n",
       "      <td>0</td>\n",
       "      <td>0</td>\n",
       "      <td>0</td>\n",
       "      <td>0</td>\n",
       "      <td>0</td>\n",
       "      <td>0</td>\n",
       "      <td>...</td>\n",
       "      <td>0</td>\n",
       "      <td>0</td>\n",
       "      <td>0</td>\n",
       "      <td>0</td>\n",
       "      <td>0</td>\n",
       "      <td>0</td>\n",
       "      <td>0</td>\n",
       "      <td>0</td>\n",
       "      <td>0</td>\n",
       "      <td>0</td>\n",
       "    </tr>\n",
       "  </tbody>\n",
       "</table>\n",
       "<p>2785 rows × 20280 columns</p>\n",
       "</div>"
      ],
      "text/plain": [
       "taxvaluedollarcnt  10504.0    13199.0    13352.0    13524.0    13820.0    \\\n",
       "square_feet                                                                \n",
       "152.0                      0          0          0          0          0   \n",
       "326.0                      0          0          0          0          0   \n",
       "480.0                      0          0          0          0          0   \n",
       "500.0                      0          0          0          0          0   \n",
       "504.0                      0          0          0          0          0   \n",
       "...                      ...        ...        ...        ...        ...   \n",
       "3562.0                     0          0          0          0          0   \n",
       "3563.0                     0          0          0          0          0   \n",
       "3564.0                     0          0          0          0          0   \n",
       "3566.0                     0          0          0          0          0   \n",
       "3568.0                     0          0          0          0          0   \n",
       "\n",
       "taxvaluedollarcnt  14231.0    14577.0    15433.0    15692.0    15890.0    ...  \\\n",
       "square_feet                                                               ...   \n",
       "152.0                      0          0          0          0          0  ...   \n",
       "326.0                      0          0          0          0          0  ...   \n",
       "480.0                      0          0          0          0          0  ...   \n",
       "500.0                      0          0          0          0          0  ...   \n",
       "504.0                      0          0          0          0          0  ...   \n",
       "...                      ...        ...        ...        ...        ...  ...   \n",
       "3562.0                     0          0          0          0          0  ...   \n",
       "3563.0                     0          0          0          0          0  ...   \n",
       "3564.0                     0          0          0          0          0  ...   \n",
       "3566.0                     0          0          0          0          0  ...   \n",
       "3568.0                     0          0          0          0          0  ...   \n",
       "\n",
       "taxvaluedollarcnt  1119396.0  1119792.0  1120000.0  1120145.0  1120474.0  \\\n",
       "square_feet                                                                \n",
       "152.0                      0          0          0          0          0   \n",
       "326.0                      0          0          0          0          0   \n",
       "480.0                      0          0          0          0          0   \n",
       "500.0                      0          0          0          0          0   \n",
       "504.0                      0          0          0          0          0   \n",
       "...                      ...        ...        ...        ...        ...   \n",
       "3562.0                     0          0          0          0          0   \n",
       "3563.0                     0          0          0          0          0   \n",
       "3564.0                     0          0          0          0          0   \n",
       "3566.0                     0          0          0          0          0   \n",
       "3568.0                     0          0          0          0          0   \n",
       "\n",
       "taxvaluedollarcnt  1122000.0  1122411.0  1123133.0  1123324.0  1124001.0  \n",
       "square_feet                                                               \n",
       "152.0                      0          0          0          0          0  \n",
       "326.0                      0          0          0          0          0  \n",
       "480.0                      0          0          0          0          0  \n",
       "500.0                      0          0          0          0          0  \n",
       "504.0                      0          0          0          0          0  \n",
       "...                      ...        ...        ...        ...        ...  \n",
       "3562.0                     0          0          0          0          0  \n",
       "3563.0                     0          0          0          0          0  \n",
       "3564.0                     0          0          0          0          0  \n",
       "3566.0                     0          0          0          0          0  \n",
       "3568.0                     0          0          0          0          0  \n",
       "\n",
       "[2785 rows x 20280 columns]"
      ]
     },
     "execution_count": 51,
     "metadata": {},
     "output_type": "execute_result"
    }
   ],
   "source": [
    "pd.crosstab(train.square_feet, train.taxvaluedollarcnt)"
   ]
  }
 ],
 "metadata": {
  "kernelspec": {
   "display_name": "Python 3",
   "language": "python",
   "name": "python3"
  },
  "language_info": {
   "codemirror_mode": {
    "name": "ipython",
    "version": 3
   },
   "file_extension": ".py",
   "mimetype": "text/x-python",
   "name": "python",
   "nbconvert_exporter": "python",
   "pygments_lexer": "ipython3",
   "version": "3.8.8"
  }
 },
 "nbformat": 4,
 "nbformat_minor": 5
}
