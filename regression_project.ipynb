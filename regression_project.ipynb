{
 "cells": [
  {
   "cell_type": "markdown",
   "id": "29f35f9c",
   "metadata": {},
   "source": [
    "# Zillow Regression Project\n",
    "\n",
    "## Presented By: Kristine Cabanela\n",
    "\n",
    "### December 13, 2021\n"
   ]
  },
  {
   "cell_type": "markdown",
   "id": "2efac7f3",
   "metadata": {},
   "source": [
    "# Project Summary\n",
    "\n",
    "- "
   ]
  },
  {
   "cell_type": "code",
   "execution_count": 1,
   "id": "2f373350",
   "metadata": {},
   "outputs": [],
   "source": [
    "# imports\n",
    "\n",
    "import warnings\n",
    "warnings.filterwarnings(\"ignore\")\n",
    "\n",
    "import pandas as pd\n",
    "import matplotlib.pyplot as plt\n",
    "import seaborn as sns\n",
    "import numpy as np\n",
    "import env\n",
    "from env import host, user, password\n",
    "from scipy import stats\n",
    "\n",
    "from sklearn.model_selection import train_test_split\n",
    "\n",
    "\n",
    "# modeling methods\n",
    "from sklearn.metrics import mean_squared_error\n",
    "from sklearn.linear_model import LinearRegression, LassoLars, TweedieRegressor\n",
    "from sklearn.preprocessing import PolynomialFeatures\n",
    "from sklearn.linear_model import LinearRegression, ElasticNet, Ridge, Lasso, SGDRegressor\n",
    "from sklearn.metrics import mean_squared_error, mean_absolute_error, r2_score\n",
    "\n"
   ]
  },
  {
   "cell_type": "markdown",
   "id": "62da4744",
   "metadata": {},
   "source": [
    "# Acquire and Prep - Wrangle"
   ]
  },
  {
   "cell_type": "markdown",
   "id": "b65d036a",
   "metadata": {},
   "source": [
    "### Get data by creating a function that connects to the SQL server\n",
    "- Acquire data by using a SQL query to Zillow table in the mySQL database.\n",
    "\n",
    "### Perform a data cleanup:\n",
    "- To ensure that the data we are evaluating is at a high quality meaning it is free of incorrect, irrelevant, or incomplete information which will minimize the risk of wrong or inaccurate conclusions.\n",
    "\n"
   ]
  },
  {
   "cell_type": "code",
   "execution_count": 2,
   "id": "ab017422",
   "metadata": {},
   "outputs": [],
   "source": [
    "def get_connection(db, user=env.user, host=env.host, password=env.password):\n",
    "    return f'mysql+pymysql://{user}:{password}@{host}/{db}'"
   ]
  },
  {
   "cell_type": "code",
   "execution_count": 3,
   "id": "81db7cee",
   "metadata": {},
   "outputs": [],
   "source": [
    "# function to query database and return zillow df\n",
    "\n",
    "def get_data_from_sql():\n",
    "    query = \"\"\"\n",
    "    SELECT bedroomcnt as bedrooms, bathroomcnt as bathrooms, calculatedfinishedsquarefeet as square_feet, \n",
    "    taxvaluedollarcnt FROM properties_2017\n",
    "    JOIN predictions_2017 as p USING(parcelid)\n",
    "    WHERE transactiondate < '2018-01-01' AND propertylandusetypeid LIKE '261'\n",
    "    \"\"\"\n",
    "    df = pd.read_sql(query, get_connection('zillow'))\n",
    "    return df"
   ]
  },
  {
   "cell_type": "code",
   "execution_count": 4,
   "id": "8029d9a6",
   "metadata": {},
   "outputs": [],
   "source": [
    "# \n",
    "\n",
    "df = get_data_from_sql()"
   ]
  },
  {
   "cell_type": "code",
   "execution_count": 5,
   "id": "5060cd9d",
   "metadata": {},
   "outputs": [
    {
     "data": {
      "text/html": [
       "<div>\n",
       "<style scoped>\n",
       "    .dataframe tbody tr th:only-of-type {\n",
       "        vertical-align: middle;\n",
       "    }\n",
       "\n",
       "    .dataframe tbody tr th {\n",
       "        vertical-align: top;\n",
       "    }\n",
       "\n",
       "    .dataframe thead th {\n",
       "        text-align: right;\n",
       "    }\n",
       "</style>\n",
       "<table border=\"1\" class=\"dataframe\">\n",
       "  <thead>\n",
       "    <tr style=\"text-align: right;\">\n",
       "      <th></th>\n",
       "      <th>bedrooms</th>\n",
       "      <th>bathrooms</th>\n",
       "      <th>square_feet</th>\n",
       "      <th>taxvaluedollarcnt</th>\n",
       "    </tr>\n",
       "  </thead>\n",
       "  <tbody>\n",
       "    <tr>\n",
       "      <th>0</th>\n",
       "      <td>4.0</td>\n",
       "      <td>3.5</td>\n",
       "      <td>3100.0</td>\n",
       "      <td>1023282.0</td>\n",
       "    </tr>\n",
       "    <tr>\n",
       "      <th>1</th>\n",
       "      <td>2.0</td>\n",
       "      <td>1.0</td>\n",
       "      <td>1465.0</td>\n",
       "      <td>464000.0</td>\n",
       "    </tr>\n",
       "    <tr>\n",
       "      <th>2</th>\n",
       "      <td>3.0</td>\n",
       "      <td>2.0</td>\n",
       "      <td>1243.0</td>\n",
       "      <td>564778.0</td>\n",
       "    </tr>\n",
       "    <tr>\n",
       "      <th>3</th>\n",
       "      <td>4.0</td>\n",
       "      <td>3.0</td>\n",
       "      <td>2376.0</td>\n",
       "      <td>145143.0</td>\n",
       "    </tr>\n",
       "    <tr>\n",
       "      <th>4</th>\n",
       "      <td>4.0</td>\n",
       "      <td>3.0</td>\n",
       "      <td>2962.0</td>\n",
       "      <td>773303.0</td>\n",
       "    </tr>\n",
       "  </tbody>\n",
       "</table>\n",
       "</div>"
      ],
      "text/plain": [
       "   bedrooms  bathrooms  square_feet  taxvaluedollarcnt\n",
       "0       4.0        3.5       3100.0          1023282.0\n",
       "1       2.0        1.0       1465.0           464000.0\n",
       "2       3.0        2.0       1243.0           564778.0\n",
       "3       4.0        3.0       2376.0           145143.0\n",
       "4       4.0        3.0       2962.0           773303.0"
      ]
     },
     "execution_count": 5,
     "metadata": {},
     "output_type": "execute_result"
    }
   ],
   "source": [
    "# get an overview of the data aquired\n",
    "\n",
    "df.head()"
   ]
  },
  {
   "cell_type": "code",
   "execution_count": 6,
   "id": "0765e720",
   "metadata": {},
   "outputs": [
    {
     "data": {
      "text/plain": [
       "(52441, 4)"
      ]
     },
     "execution_count": 6,
     "metadata": {},
     "output_type": "execute_result"
    }
   ],
   "source": [
    "# How many rows and columns are present\n",
    "\n",
    "df.shape"
   ]
  },
  {
   "cell_type": "code",
   "execution_count": 7,
   "id": "1fe86dc7",
   "metadata": {},
   "outputs": [
    {
     "data": {
      "text/plain": [
       "bedrooms  bathrooms  square_feet  taxvaluedollarcnt\n",
       "3.0       2.5        1689.0       632000.0             3\n",
       "2.0       1.5        1080.0       137444.0             3\n",
       "3.0       2.0        1541.0       255000.0             3\n",
       "2.0       1.5        1350.0       467000.0             3\n",
       "          1.0        832.0        455000.0             3\n",
       "                                                      ..\n",
       "3.0       2.0        1328.0       521062.0             1\n",
       "                     1329.0       87354.0              1\n",
       "                                  124876.0             1\n",
       "                                  160579.0             1\n",
       "14.0      18.0       18654.0      49061236.0           1\n",
       "Length: 52145, dtype: int64"
      ]
     },
     "execution_count": 7,
     "metadata": {},
     "output_type": "execute_result"
    }
   ],
   "source": [
    "# An overview of the values in columns and rows\n",
    "\n",
    "df.value_counts()"
   ]
  },
  {
   "cell_type": "markdown",
   "id": "2708cf97",
   "metadata": {},
   "source": [
    "# Preparing the Data\n",
    "\n",
    "## Let's drop some existing rows that are not necessary\n",
    "- First, we will remove null values.\n",
    "- We can also take out duplicate values.\n",
    "- More rows were observed with a value count of zero for bedrooms and bathrooms.\n",
    "- After observation, we've found some outliers and we will drop those too."
   ]
  },
  {
   "cell_type": "code",
   "execution_count": 8,
   "id": "b35788b2",
   "metadata": {},
   "outputs": [
    {
     "data": {
      "text/plain": [
       "bedrooms              0\n",
       "bathrooms             0\n",
       "square_feet          82\n",
       "taxvaluedollarcnt     1\n",
       "dtype: int64"
      ]
     },
     "execution_count": 8,
     "metadata": {},
     "output_type": "execute_result"
    }
   ],
   "source": [
    "# Find the total number of Null values in each column of our DataFrame.\n",
    "\n",
    "df.isnull().sum()"
   ]
  },
  {
   "cell_type": "code",
   "execution_count": 9,
   "id": "fef687b4",
   "metadata": {},
   "outputs": [],
   "source": [
    "# here we are going to drop null values in any columns\n",
    "\n",
    "df = df.dropna()"
   ]
  },
  {
   "cell_type": "code",
   "execution_count": 10,
   "id": "48c7b01c",
   "metadata": {},
   "outputs": [
    {
     "data": {
      "text/plain": [
       "bedrooms             0\n",
       "bathrooms            0\n",
       "square_feet          0\n",
       "taxvaluedollarcnt    0\n",
       "dtype: int64"
      ]
     },
     "execution_count": 10,
     "metadata": {},
     "output_type": "execute_result"
    }
   ],
   "source": [
    "# same as above to confirm\n",
    "\n",
    "df.isnull().sum()"
   ]
  },
  {
   "cell_type": "code",
   "execution_count": 11,
   "id": "0e60f3f9",
   "metadata": {},
   "outputs": [
    {
     "data": {
      "text/plain": [
       "bedrooms             False\n",
       "bathrooms            False\n",
       "square_feet          False\n",
       "taxvaluedollarcnt    False\n",
       "dtype: bool"
      ]
     },
     "execution_count": 11,
     "metadata": {},
     "output_type": "execute_result"
    }
   ],
   "source": [
    "# confirmation that above code worked to drop nulls\n",
    "\n",
    "df.isnull().any()"
   ]
  },
  {
   "cell_type": "code",
   "execution_count": 12,
   "id": "2ab181d1",
   "metadata": {},
   "outputs": [
    {
     "data": {
      "text/plain": [
       "(52358, 4)"
      ]
     },
     "execution_count": 12,
     "metadata": {},
     "output_type": "execute_result"
    }
   ],
   "source": [
    "# more confirmation that the above code has dropped the rows with existing null values\n",
    "\n",
    "df.shape"
   ]
  },
  {
   "cell_type": "code",
   "execution_count": 13,
   "id": "1d33b4e1",
   "metadata": {},
   "outputs": [],
   "source": [
    "# drop duplicates\n",
    "\n",
    "df = df.drop_duplicates()"
   ]
  },
  {
   "cell_type": "code",
   "execution_count": 14,
   "id": "d2e14261",
   "metadata": {},
   "outputs": [
    {
     "data": {
      "text/plain": [
       "(52145, 4)"
      ]
     },
     "execution_count": 14,
     "metadata": {},
     "output_type": "execute_result"
    }
   ],
   "source": [
    "# confirm cell above that duplicates have been dropped\n",
    "\n",
    "df.shape"
   ]
  },
  {
   "cell_type": "markdown",
   "id": "fbb92c3c",
   "metadata": {},
   "source": [
    "## Finding more unneeded values\n"
   ]
  },
  {
   "cell_type": "code",
   "execution_count": 15,
   "id": "fa7c61da",
   "metadata": {},
   "outputs": [],
   "source": [
    "# Drop all rows with 0 value.\n",
    "\n",
    "df = df[df.bathrooms != 0]\n",
    "df = df[df.bedrooms != 0]"
   ]
  },
  {
   "cell_type": "code",
   "execution_count": 16,
   "id": "3b2a9101",
   "metadata": {},
   "outputs": [
    {
     "data": {
      "text/plain": [
       "(52068, 4)"
      ]
     },
     "execution_count": 16,
     "metadata": {},
     "output_type": "execute_result"
    }
   ],
   "source": [
    "# confirmed that rows with 0 value have been dropped\n",
    "\n",
    "df.shape"
   ]
  },
  {
   "cell_type": "markdown",
   "id": "ce43eff6",
   "metadata": {},
   "source": [
    "### Here, is an example of some observed data that differs substantially from the rest of our data.  \n",
    "- We will create a function to remove these."
   ]
  },
  {
   "cell_type": "code",
   "execution_count": 17,
   "id": "8a27f9dc",
   "metadata": {},
   "outputs": [
    {
     "data": {
      "text/plain": [
       "14.0        1\n",
       "11.0        1\n",
       "12.0        1\n",
       "10.0        2\n",
       "9.0         8\n",
       "8.0        24\n",
       "7.0       106\n",
       "1.0       603\n",
       "6.0       633\n",
       "5.0      3965\n",
       "2.0      8296\n",
       "4.0     15185\n",
       "3.0     23243\n",
       "Name: bedrooms, dtype: int64"
      ]
     },
     "execution_count": 17,
     "metadata": {},
     "output_type": "execute_result"
    }
   ],
   "source": [
    "# Here we can take a look at bedrooms column and see what they values are and how many of each value are present\n",
    "\n",
    "df['bedrooms'].value_counts(ascending=True)"
   ]
  },
  {
   "cell_type": "code",
   "execution_count": 18,
   "id": "233ef36e",
   "metadata": {},
   "outputs": [
    {
     "data": {
      "text/plain": [
       "13.0        1\n",
       "18.0        1\n",
       "8.5         3\n",
       "11.0        3\n",
       "10.0        5\n",
       "9.0        13\n",
       "7.5        16\n",
       "6.5        47\n",
       "8.0        53\n",
       "7.0        88\n",
       "5.5       223\n",
       "6.0       320\n",
       "4.5       685\n",
       "5.0       802\n",
       "1.5       824\n",
       "3.5       914\n",
       "4.0      2223\n",
       "2.5      3915\n",
       "1.0      9498\n",
       "3.0     10634\n",
       "2.0     21800\n",
       "Name: bathrooms, dtype: int64"
      ]
     },
     "execution_count": 18,
     "metadata": {},
     "output_type": "execute_result"
    }
   ],
   "source": [
    "# We can use the same code above to see the same information but for the bathrooms column instead\n",
    "\n",
    "df['bathrooms'].value_counts(ascending=True)"
   ]
  },
  {
   "cell_type": "markdown",
   "id": "7272477d",
   "metadata": {},
   "source": [
    "### Let's Drop some more data\n",
    "### Outliers\n",
    "### This function's purpose is to remove outliers"
   ]
  },
  {
   "cell_type": "code",
   "execution_count": 19,
   "id": "12b2441a",
   "metadata": {},
   "outputs": [],
   "source": [
    "#function to remove outliers in x columns\n",
    "\n",
    "def remove_outliers(df, k, col_list):\n",
    "    ''' \n",
    "    Takes in a df, k, and list of columns returns\n",
    "    a df with removed outliers\n",
    "    '''\n",
    "    \n",
    "    for col in col_list:\n",
    "\n",
    "        q1, q3 = df[col].quantile([.25, .75])  # get quartiles\n",
    "        \n",
    "        iqr = q3 - q1   # calculate interquartile range\n",
    "        \n",
    "        upper_bound = q3 + k * iqr   # get upper bound\n",
    "        lower_bound = q1 - k * iqr   # get lower bound\n",
    "\n",
    "        # return dataframe without outliers\n",
    "        \n",
    "        df = df[(df[col] > lower_bound) & (df[col] < upper_bound)]\n",
    "        \n",
    "    return df"
   ]
  },
  {
   "cell_type": "markdown",
   "id": "c82d5f63",
   "metadata": {},
   "source": [
    "### The function created will be implemented to the all of the columns listed \n",
    "see below cell"
   ]
  },
  {
   "cell_type": "code",
   "execution_count": 20,
   "id": "78f59aea",
   "metadata": {},
   "outputs": [
    {
     "data": {
      "text/html": [
       "<div>\n",
       "<style scoped>\n",
       "    .dataframe tbody tr th:only-of-type {\n",
       "        vertical-align: middle;\n",
       "    }\n",
       "\n",
       "    .dataframe tbody tr th {\n",
       "        vertical-align: top;\n",
       "    }\n",
       "\n",
       "    .dataframe thead th {\n",
       "        text-align: right;\n",
       "    }\n",
       "</style>\n",
       "<table border=\"1\" class=\"dataframe\">\n",
       "  <thead>\n",
       "    <tr style=\"text-align: right;\">\n",
       "      <th></th>\n",
       "      <th>bedrooms</th>\n",
       "      <th>bathrooms</th>\n",
       "      <th>square_feet</th>\n",
       "      <th>taxvaluedollarcnt</th>\n",
       "    </tr>\n",
       "  </thead>\n",
       "  <tbody>\n",
       "    <tr>\n",
       "      <th>0</th>\n",
       "      <td>4.0</td>\n",
       "      <td>3.5</td>\n",
       "      <td>3100.0</td>\n",
       "      <td>1023282.0</td>\n",
       "    </tr>\n",
       "    <tr>\n",
       "      <th>1</th>\n",
       "      <td>2.0</td>\n",
       "      <td>1.0</td>\n",
       "      <td>1465.0</td>\n",
       "      <td>464000.0</td>\n",
       "    </tr>\n",
       "    <tr>\n",
       "      <th>2</th>\n",
       "      <td>3.0</td>\n",
       "      <td>2.0</td>\n",
       "      <td>1243.0</td>\n",
       "      <td>564778.0</td>\n",
       "    </tr>\n",
       "    <tr>\n",
       "      <th>3</th>\n",
       "      <td>4.0</td>\n",
       "      <td>3.0</td>\n",
       "      <td>2376.0</td>\n",
       "      <td>145143.0</td>\n",
       "    </tr>\n",
       "    <tr>\n",
       "      <th>4</th>\n",
       "      <td>4.0</td>\n",
       "      <td>3.0</td>\n",
       "      <td>2962.0</td>\n",
       "      <td>773303.0</td>\n",
       "    </tr>\n",
       "    <tr>\n",
       "      <th>...</th>\n",
       "      <td>...</td>\n",
       "      <td>...</td>\n",
       "      <td>...</td>\n",
       "      <td>...</td>\n",
       "    </tr>\n",
       "    <tr>\n",
       "      <th>52436</th>\n",
       "      <td>4.0</td>\n",
       "      <td>2.0</td>\n",
       "      <td>1633.0</td>\n",
       "      <td>346534.0</td>\n",
       "    </tr>\n",
       "    <tr>\n",
       "      <th>52437</th>\n",
       "      <td>2.0</td>\n",
       "      <td>2.0</td>\n",
       "      <td>1286.0</td>\n",
       "      <td>354621.0</td>\n",
       "    </tr>\n",
       "    <tr>\n",
       "      <th>52438</th>\n",
       "      <td>4.0</td>\n",
       "      <td>2.0</td>\n",
       "      <td>1612.0</td>\n",
       "      <td>67205.0</td>\n",
       "    </tr>\n",
       "    <tr>\n",
       "      <th>52439</th>\n",
       "      <td>3.0</td>\n",
       "      <td>1.0</td>\n",
       "      <td>1032.0</td>\n",
       "      <td>49546.0</td>\n",
       "    </tr>\n",
       "    <tr>\n",
       "      <th>52440</th>\n",
       "      <td>3.0</td>\n",
       "      <td>2.0</td>\n",
       "      <td>1762.0</td>\n",
       "      <td>522000.0</td>\n",
       "    </tr>\n",
       "  </tbody>\n",
       "</table>\n",
       "<p>45433 rows × 4 columns</p>\n",
       "</div>"
      ],
      "text/plain": [
       "       bedrooms  bathrooms  square_feet  taxvaluedollarcnt\n",
       "0           4.0        3.5       3100.0          1023282.0\n",
       "1           2.0        1.0       1465.0           464000.0\n",
       "2           3.0        2.0       1243.0           564778.0\n",
       "3           4.0        3.0       2376.0           145143.0\n",
       "4           4.0        3.0       2962.0           773303.0\n",
       "...         ...        ...          ...                ...\n",
       "52436       4.0        2.0       1633.0           346534.0\n",
       "52437       2.0        2.0       1286.0           354621.0\n",
       "52438       4.0        2.0       1612.0            67205.0\n",
       "52439       3.0        1.0       1032.0            49546.0\n",
       "52440       3.0        2.0       1762.0           522000.0\n",
       "\n",
       "[45433 rows x 4 columns]"
      ]
     },
     "execution_count": 20,
     "metadata": {},
     "output_type": "execute_result"
    }
   ],
   "source": [
    "# use above function to remove outliers for columns listed and apply to new df\n",
    "\n",
    "df = remove_outliers(df, 1.5, ['bedrooms', 'bathrooms', 'square_feet', 'taxvaluedollarcnt'])\n",
    "df"
   ]
  },
  {
   "cell_type": "code",
   "execution_count": 21,
   "id": "4a931033",
   "metadata": {},
   "outputs": [],
   "source": [
    "## Confirmed.\n",
    "### outliers not present"
   ]
  },
  {
   "cell_type": "code",
   "execution_count": 22,
   "id": "2918a8bc",
   "metadata": {},
   "outputs": [
    {
     "data": {
      "text/plain": [
       "3.0    22015\n",
       "4.0    13048\n",
       "2.0     8031\n",
       "5.0     2339\n",
       "Name: bedrooms, dtype: int64"
      ]
     },
     "execution_count": 22,
     "metadata": {},
     "output_type": "execute_result"
    }
   ],
   "source": [
    "# Same code used previously to check the values specific to the bedrooms column \n",
    "# Now the outliers have been removed\n",
    "\n",
    "df['bedrooms'].value_counts(ascending=False)"
   ]
  },
  {
   "cell_type": "code",
   "execution_count": 23,
   "id": "1d49e07d",
   "metadata": {},
   "outputs": [
    {
     "data": {
      "text/plain": [
       "3.5      477\n",
       "1.5      816\n",
       "4.0     1052\n",
       "2.5     3765\n",
       "1.0     8865\n",
       "3.0     9374\n",
       "2.0    21084\n",
       "Name: bathrooms, dtype: int64"
      ]
     },
     "execution_count": 23,
     "metadata": {},
     "output_type": "execute_result"
    }
   ],
   "source": [
    "# More confirmation outliers also removed for bathrooms column\n",
    "\n",
    "df['bathrooms'].value_counts(ascending=True)"
   ]
  },
  {
   "cell_type": "markdown",
   "id": "9c963eac",
   "metadata": {},
   "source": [
    "# Lets write a function for this\n",
    "After preparing my dataset I've created a function to apply all the changes"
   ]
  },
  {
   "cell_type": "code",
   "execution_count": 24,
   "id": "45bfb217",
   "metadata": {},
   "outputs": [],
   "source": [
    "def wrangle_zillow():\n",
    "    '''\n",
    "    Read student_grades csv file into a pandas DataFrame,\n",
    "    drop student_id column, replace whitespaces with NaN values,\n",
    "    drop any rows with Null values, convert all columns to int64,\n",
    "    return cleaned student grades DataFrame.\n",
    "    '''\n",
    "    # Acquire data from csv file.\n",
    "    df = get_data_from_sql()\n",
    "    \n",
    "    # Replace white space values with NaN values.\n",
    "    df = df.replace(r'^\\s*$', np.nan, regex=True)\n",
    "    \n",
    "    # Drop any Duplicates\n",
    "    df = df.drop_duplicates()\n",
    "\n",
    "    # Drop all rows with 0 values.\n",
    "    df = df[df.bathrooms != 0]\n",
    "    df = df[df.bedrooms != 0]\n",
    "    \n",
    "    # here we are going to drop null values in any columns\n",
    "    df.isnull().sum()\n",
    "    \n",
    "    # Remove Outliers\n",
    "    df = remove_outliers(df, 1.5, ['bedrooms', 'bathrooms', 'square_feet', 'taxvaluedollarcnt'])\n",
    "    \n",
    "    # Convert datatypes to int\n",
    "    df = df.astype('int')\n",
    "    \n",
    "\n",
    "    # clean data with split\n",
    "    train, test = train_test_split(df, test_size = .2, random_state = 123)\n",
    "    train, validate = train_test_split(train, test_size = .3, random_state = 123)\n",
    "    \n",
    "    return df "
   ]
  },
  {
   "cell_type": "code",
   "execution_count": 25,
   "id": "b9628c72",
   "metadata": {},
   "outputs": [],
   "source": [
    "# Named my dataframe with function implemented\n",
    "\n",
    "wrangle_zillow = wrangle_zillow()"
   ]
  },
  {
   "cell_type": "markdown",
   "id": "adf32cf9",
   "metadata": {},
   "source": [
    "# Let's split our data"
   ]
  },
  {
   "cell_type": "code",
   "execution_count": 26,
   "id": "121a8fbb",
   "metadata": {},
   "outputs": [],
   "source": [
    "# 20% test, 80% train_validate\n",
    "# then of the 80% train_validate: 30% validate, 70% train.\n",
    "\n",
    "train, test = train_test_split(wrangle_zillow, test_size = .2, random_state = 123)\n",
    "train, validate = train_test_split(train, test_size = .3, random_state = 123)\n",
    "\n"
   ]
  },
  {
   "cell_type": "code",
   "execution_count": 27,
   "id": "8aa91c54",
   "metadata": {},
   "outputs": [
    {
     "name": "stdout",
     "output_type": "stream",
     "text": [
      "train -> (25442, 4)\n",
      "validate -> (10904, 4)\n",
      "test -> (9087, 4)\n"
     ]
    }
   ],
   "source": [
    "# Validate my split.\n",
    "\n",
    "print(f'train -> {train.shape}')\n",
    "print(f'validate -> {validate.shape}')\n",
    "print(f'test -> {test.shape}')"
   ]
  },
  {
   "cell_type": "code",
   "execution_count": 28,
   "id": "414f8c49",
   "metadata": {},
   "outputs": [],
   "source": [
    "# Function created to split dataset\n",
    "\n",
    "def split_data(df):\n",
    "    '''\n",
    "    take in a DataFrame and return train, validate, and test DataFrames\n",
    "    return train, validate, test DataFrames.\n",
    "    '''\n",
    "    train, test = train_test_split(wrangle_zillow, test_size = .2, random_state = 123)\n",
    "    train, validate = train_test_split(train, test_size = .3, random_state = 123)\n",
    "    \n",
    "    return train, validate, test"
   ]
  },
  {
   "cell_type": "code",
   "execution_count": 29,
   "id": "10e85c6c",
   "metadata": {},
   "outputs": [],
   "source": [
    "# apply split_data function to dataset\n",
    "\n",
    "train, validate, test = split_data(wrangle_zillow)"
   ]
  },
  {
   "cell_type": "code",
   "execution_count": 30,
   "id": "3528b26a",
   "metadata": {},
   "outputs": [
    {
     "name": "stdout",
     "output_type": "stream",
     "text": [
      "train -> (25442, 4)\n",
      "validate -> (10904, 4)\n",
      "test -> (9087, 4)\n"
     ]
    }
   ],
   "source": [
    "# Validate my split.\n",
    "\n",
    "print(f'train -> {train.shape}')\n",
    "print(f'validate -> {validate.shape}')\n",
    "print(f'test -> {test.shape}')"
   ]
  },
  {
   "cell_type": "code",
   "execution_count": 31,
   "id": "7a017196",
   "metadata": {},
   "outputs": [
    {
     "data": {
      "text/plain": [
       "((25442, 4), (10904, 4), (9087, 4))"
      ]
     },
     "execution_count": 31,
     "metadata": {},
     "output_type": "execute_result"
    }
   ],
   "source": [
    "# Rows and columns for train, validate, and test\n",
    "\n",
    "train.shape, validate.shape, test.shape"
   ]
  },
  {
   "cell_type": "markdown",
   "id": "d6c9e098",
   "metadata": {},
   "source": [
    "# Explore"
   ]
  },
  {
   "cell_type": "markdown",
   "id": "0a9dd712",
   "metadata": {},
   "source": [
    "### Initial Questions\n",
    "- What is the relationship between bedroom count and tax value dollar count?\n",
    "    - Is it a linear relationship or is there no relationship?\n",
    "    \n",
    "    \n",
    "- What is the relationship between bathroom count and tax value dollar count?\n",
    "    - Is it a linear relationship or is there no relationship?\n",
    "    \n",
    "\n",
    "- What is the relationship between square feet and tax value dollar count?\n",
    "    - Is it a linear relationship or is there no relationship?\n",
    "    \n",
    "\n",
    "- What is the relationship between bedroom \n",
    "\n"
   ]
  },
  {
   "cell_type": "markdown",
   "id": "06aac60d",
   "metadata": {},
   "source": [
    "### Question 1\n",
    "Is there a relationship between bedroom count and taxvaluedollarcount?"
   ]
  },
  {
   "cell_type": "code",
   "execution_count": 32,
   "id": "80fa6dbe",
   "metadata": {},
   "outputs": [
    {
     "name": "stdout",
     "output_type": "stream",
     "text": [
      "Object `relationship` not found.\n"
     ]
    },
    {
     "data": {
      "image/png": "[encoded data removed]",
      "text/plain": [
       "<Figure size 432x288 with 1 Axes>"
      ]
     },
     "metadata": {
      "needs_background": "light"
     },
     "output_type": "display_data"
    }
   ],
   "source": [
    "# Here we've created a bar graph so we can visualize how the number of bedrooms correlates to the tax value\n",
    "\n",
    "sns.barplot(x = 'bedrooms',y='taxvaluedollarcnt',data=train)\n",
    "- Is it a linear relationship or is there no relationship?"
   ]
  },
  {
   "cell_type": "code",
   "execution_count": 33,
   "id": "793f40be",
   "metadata": {},
   "outputs": [
    {
     "name": "stdout",
     "output_type": "stream",
     "text": [
      "Reject the null hypothesis that taxvaluedollarcnt and bedrooms are independent taxvaluedollarcnt and bedrooms are independent\n",
      "Sufficient evidence to move forward understanding that there is a relationship between taxvaluedollarcnt and bedrooms\n"
     ]
    }
   ],
   "source": [
    "# Let's run a chi squared to compare proportions, to have more confidence\n",
    "\n",
    "alpha = 0.05\n",
    "\n",
    "null_hypothesis = \"taxvaluedollarcnt and bedrooms are independent\"\n",
    "alternative_hypothesis = \"there is a relationship between taxvaluedollarcnt and bedrooms\"\n",
    "\n",
    "# Setup a crosstab of taxval to bedrooms\n",
    "observed = pd.crosstab(train.bedrooms, train.taxvaluedollarcnt)\n",
    "\n",
    "chi2, p, degf, expected = stats.chi2_contingency(observed)\n",
    "\n",
    "if p < alpha:\n",
    "    print(\"Reject the null hypothesis that taxvaluedollarcnt and bedrooms are independent\", null_hypothesis)\n",
    "    print(\"Sufficient evidence to move forward understanding that\", alternative_hypothesis)\n",
    "else:\n",
    "    print(\"Fail to reject the null\")\n",
    "    print(\"Insufficient evidence to reject the null\")"
   ]
  },
  {
   "cell_type": "markdown",
   "id": "5ab9d725",
   "metadata": {},
   "source": [
    "### Question 2\n",
    "What is the relationship between bathroom count and taxvaluedollarcount?\n",
    "- Is it a linear relationship or is there no relationship?"
   ]
  },
  {
   "cell_type": "code",
   "execution_count": 34,
   "id": "7159b74d",
   "metadata": {},
   "outputs": [
    {
     "data": {
      "text/plain": [
       "<AxesSubplot:xlabel='bathrooms', ylabel='taxvaluedollarcnt'>"
      ]
     },
     "execution_count": 34,
     "metadata": {},
     "output_type": "execute_result"
    },
    {
     "data": {
      "image/png": "[encoded data removed]",
      "text/plain": [
       "<Figure size 432x288 with 1 Axes>"
      ]
     },
     "metadata": {
      "needs_background": "light"
     },
     "output_type": "display_data"
    }
   ],
   "source": [
    "# Here we've created a bar graph so we can visualize how the number of bathrooms correlates to the tax value\n",
    "\n",
    "sns.barplot(x = 'bathrooms',y='taxvaluedollarcnt',data=train)"
   ]
  },
  {
   "cell_type": "code",
   "execution_count": 35,
   "id": "67b372eb",
   "metadata": {},
   "outputs": [
    {
     "data": {
      "image/png": "[encoded data removed]",
      "text/plain": [
       "<Figure size 432x288 with 1 Axes>"
      ]
     },
     "metadata": {
      "needs_background": "light"
     },
     "output_type": "display_data"
    }
   ],
   "source": [
    "# Lets see if there is a linear regression with a line plot\n",
    "\n",
    "sns.lineplot(x=\"bathrooms\", y=\"taxvaluedollarcnt\", ci=False,  data=train);"
   ]
  },
  {
   "cell_type": "markdown",
   "id": "cac6906b",
   "metadata": {},
   "source": [
    "### Question 3\n",
    "What is the relationship between square feet and taxvaluedollarcount?\n",
    "- Is it a linear relationship or is there no relationship?"
   ]
  },
  {
   "cell_type": "code",
   "execution_count": 36,
   "id": "b5311205",
   "metadata": {},
   "outputs": [
    {
     "data": {
      "text/plain": [
       "<AxesSubplot:xlabel='square_feet', ylabel='taxvaluedollarcnt'>"
      ]
     },
     "execution_count": 36,
     "metadata": {},
     "output_type": "execute_result"
    },
    {
     "data": {
      "image/png": "[encoded data removed]",
      "text/plain": [
       "<Figure size 432x288 with 1 Axes>"
      ]
     },
     "metadata": {
      "needs_background": "light"
     },
     "output_type": "display_data"
    }
   ],
   "source": [
    "# Here we've created a bar graph so we can visualize how high or low the square footage is related to the tax value \n",
    "\n",
    "sns.barplot(x = 'square_feet',y='taxvaluedollarcnt',data=train)"
   ]
  },
  {
   "cell_type": "code",
   "execution_count": 37,
   "id": "c7cbbbf3",
   "metadata": {},
   "outputs": [
    {
     "data": {
      "image/png": "[encoded data removed]",
      "text/plain": [
       "<Figure size 432x288 with 1 Axes>"
      ]
     },
     "metadata": {
      "needs_background": "light"
     },
     "output_type": "display_data"
    }
   ],
   "source": [
    "# Lets see if there is a linear regression with a line plot\n",
    "\n",
    "sns.lineplot(x=\"square_feet\", y=\"taxvaluedollarcnt\", ci=False,  data=train);"
   ]
  },
  {
   "cell_type": "code",
   "execution_count": 38,
   "id": "9c8faa20",
   "metadata": {},
   "outputs": [
    {
     "name": "stdout",
     "output_type": "stream",
     "text": [
      "Reject the null hypothesis that taxvaluedollarcnt and square feet are independent taxvaluedollarcnt and square feet are independent\n",
      "Sufficient evidence to move forward understanding that there is a relationship between taxvaluedollarcnt and square feet\n"
     ]
    }
   ],
   "source": [
    "# For further evidence of the relationship between square footage and tax value we've run a stats test.\n",
    "\n",
    "alpha = 0.05\n",
    "\n",
    "null_hypothesis = \"taxvaluedollarcnt and square feet are independent\"\n",
    "alternative_hypothesis = \"there is a relationship between taxvaluedollarcnt and square feet\"\n",
    "\n",
    "# Setup a crosstab of taxvalue to bedrooms\n",
    "observed = pd.crosstab(train.square_feet, train.taxvaluedollarcnt)\n",
    "\n",
    "chi2, p, degf, expected = stats.chi2_contingency(observed)\n",
    "\n",
    "if p < alpha:\n",
    "    print(\"Reject the null hypothesis that taxvaluedollarcnt and square feet are independent\", null_hypothesis)\n",
    "    print(\"Sufficient evidence to move forward understanding that\", alternative_hypothesis)\n",
    "else:\n",
    "    print(\"Fail to reject the null\")\n",
    "    print(\"Insufficient evidence to reject the null\")"
   ]
  },
  {
   "cell_type": "markdown",
   "id": "bf07cdbf",
   "metadata": {},
   "source": [
    "# Model"
   ]
  },
  {
   "cell_type": "code",
   "execution_count": 39,
   "id": "b4c7d0f6",
   "metadata": {},
   "outputs": [],
   "source": [
    "X_train = train.drop(columns=['taxvaluedollarcnt'])\n",
    "y_train = train.taxvaluedollarcnt\n",
    "\n",
    "X_validate = validate.drop(columns=['taxvaluedollarcnt'])\n",
    "y_validate = validate.taxvaluedollarcnt\n",
    "\n",
    "X_test = test.drop(columns=['taxvaluedollarcnt',])\n",
    "y_test = test.taxvaluedollarcnt"
   ]
  },
  {
   "cell_type": "code",
   "execution_count": 40,
   "id": "6cdfe7e7",
   "metadata": {},
   "outputs": [
    {
     "data": {
      "text/plain": [
       "((25442, 3), (25442,), (9087, 3), (9087,))"
      ]
     },
     "execution_count": 40,
     "metadata": {},
     "output_type": "execute_result"
    }
   ],
   "source": [
    "X_train.shape, y_train.shape, X_test.shape, y_test.shape"
   ]
  },
  {
   "cell_type": "markdown",
   "id": "88b87afd",
   "metadata": {},
   "source": [
    "### Baseline"
   ]
  },
  {
   "cell_type": "code",
   "execution_count": 41,
   "id": "920f5f0d",
   "metadata": {},
   "outputs": [
    {
     "name": "stdout",
     "output_type": "stream",
     "text": [
      "RMSE using Mean\n",
      "Train/In-Sample:  244209.66 \n",
      "Validate/Out-of-Sample:  245727.09\n",
      "RMSE using Median\n",
      "Train/In-Sample:  246803.94 \n",
      "Validate/Out-of-Sample:  248966.8\n"
     ]
    }
   ],
   "source": [
    "# We need y_train and y_validate to be dataframes to append the new columns with predicted values.\n",
    "\n",
    "y_train = pd.DataFrame(y_train)\n",
    "y_validate = pd.DataFrame(y_validate)\n",
    "\n",
    "# 1. Predict pred_mean\n",
    "pred_mean = y_train['taxvaluedollarcnt'].mean()\n",
    "y_train['pred_mean'] = pred_mean\n",
    "y_validate['pred_mean'] = pred_mean\n",
    "\n",
    "# 2. compute pred_median\n",
    "pred_median = y_train['taxvaluedollarcnt'].median()\n",
    "y_train['pred_median'] = pred_median\n",
    "y_validate['pred_median'] = pred_median\n",
    "\n",
    "# 3. RMSE of pred_mean\n",
    "rmse_train = mean_squared_error(y_train.taxvaluedollarcnt, y_train.pred_mean)**(1/2)\n",
    "rmse_validate = mean_squared_error(y_validate.taxvaluedollarcnt, y_validate.pred_mean)**(1/2)\n",
    "\n",
    "print(\"RMSE using Mean\\nTrain/In-Sample: \", round(rmse_train, 2), \n",
    "      \"\\nValidate/Out-of-Sample: \", round(rmse_validate, 2))\n",
    "\n",
    "# 4. RMSE of pred_median\n",
    "rmse_train = mean_squared_error(y_train.taxvaluedollarcnt, y_train.pred_median)**(1/2)\n",
    "rmse_validate = mean_squared_error(y_validate.taxvaluedollarcnt, y_validate.pred_median)**(1/2)\n",
    "\n",
    "print(\"RMSE using Median\\nTrain/In-Sample: \", round(rmse_train, 2), \n",
    "      \"\\nValidate/Out-of-Sample: \", round(rmse_validate, 2))"
   ]
  },
  {
   "cell_type": "code",
   "execution_count": 42,
   "id": "1daa32c9",
   "metadata": {},
   "outputs": [
    {
     "data": {
      "text/plain": [
       "371892.68587375205"
      ]
     },
     "execution_count": 42,
     "metadata": {},
     "output_type": "execute_result"
    }
   ],
   "source": [
    "train.taxvaluedollarcnt.mean()"
   ]
  },
  {
   "cell_type": "markdown",
   "id": "c2fb6c5a",
   "metadata": {},
   "source": [
    "### OLS"
   ]
  },
  {
   "cell_type": "code",
   "execution_count": 43,
   "id": "95ef3c02",
   "metadata": {},
   "outputs": [
    {
     "name": "stdout",
     "output_type": "stream",
     "text": [
      "RMSE for OLS using LinearRegression\n",
      "Training/In-Sample:  217575.41353073844 \n",
      "Validation/Out-of-Sample:  218330.7046624408\n"
     ]
    }
   ],
   "source": [
    "# Create model\n",
    "lm = LinearRegression(normalize=True,)\n",
    "\n",
    "# fit the model to our training data. We must specify the column in y_train, \n",
    "# since we have converted it to a dataframe from a series! \n",
    "lm.fit(X_train, y_train.taxvaluedollarcnt)\n",
    "\n",
    "# predict train\n",
    "y_train['taxvalue_pred_lm'] = lm.predict(X_train)\n",
    "\n",
    "# evaluate: rmse\n",
    "rmse_train = mean_squared_error(y_train.taxvaluedollarcnt, y_train.taxvalue_pred_lm)**(1/2)\n",
    "\n",
    "# predict validate\n",
    "y_validate['taxvalue_pred_lm'] = lm.predict(X_validate)\n",
    "\n",
    "# evaluate: rmse\n",
    "rmse_validate = mean_squared_error(y_validate.taxvaluedollarcnt, y_validate.taxvalue_pred_lm)**(1/2)\n",
    "\n",
    "print(\"RMSE for OLS using LinearRegression\\nTraining/In-Sample: \", rmse_train, \n",
    "      \"\\nValidation/Out-of-Sample: \", rmse_validate)"
   ]
  },
  {
   "cell_type": "markdown",
   "id": "fbe249d1",
   "metadata": {},
   "source": [
    "### LassoLars"
   ]
  },
  {
   "cell_type": "code",
   "execution_count": 44,
   "id": "7f7e71d7",
   "metadata": {},
   "outputs": [
    {
     "name": "stdout",
     "output_type": "stream",
     "text": [
      "RMSE for Lasso + Lars\n",
      "Training/In-Sample:  218392.73611393286 \n",
      "Validation/Out-of-Sample:  219091.3124558128\n"
     ]
    }
   ],
   "source": [
    "# create the model object\n",
    "lars = LassoLars(alpha=50)\n",
    "\n",
    "# fit the model to our training data. We must specify the column in y_train, \n",
    "# since we have converted it to a dataframe from a series! \n",
    "lars.fit(X_train, y_train.taxvaluedollarcnt)\n",
    "\n",
    "# predict train\n",
    "y_train['taxvalue_pred_lars'] = lars.predict(X_train)\n",
    "\n",
    "# evaluate: rmse\n",
    "rmse_train = mean_squared_error(y_train.taxvaluedollarcnt, y_train.taxvalue_pred_lars)**(1/2)\n",
    "\n",
    "# predict validate\n",
    "y_validate['taxvalue_pred_lars'] = lars.predict(X_validate)\n",
    "\n",
    "# evaluate: rmse\n",
    "rmse_validate = mean_squared_error(y_validate.taxvaluedollarcnt, y_validate.taxvalue_pred_lars)**(1/2)\n",
    "\n",
    "print(\"RMSE for Lasso + Lars\\nTraining/In-Sample: \", rmse_train, \n",
    "      \"\\nValidation/Out-of-Sample: \", rmse_validate)"
   ]
  },
  {
   "cell_type": "markdown",
   "id": "63504d9f",
   "metadata": {},
   "source": [
    "### TweedieRegressor (GLM)"
   ]
  },
  {
   "cell_type": "code",
   "execution_count": 45,
   "id": "8fbbf451",
   "metadata": {},
   "outputs": [
    {
     "name": "stdout",
     "output_type": "stream",
     "text": [
      "RMSE for GLM using Tweedie, power=1 & alpha=0\n",
      "Training/In-Sample:  244209.663997758 \n",
      "Validation/Out-of-Sample:  245727.09011076426\n"
     ]
    }
   ],
   "source": [
    "# create the model object\n",
    "glm = TweedieRegressor(power=1, alpha=0)\n",
    "\n",
    "# fit the model to our training data. We must specify the column in y_train, \n",
    "# since we have converted it to a dataframe from a series! \n",
    "glm.fit(X_train, y_train.taxvaluedollarcnt)\n",
    "\n",
    "# predict train\n",
    "y_train['taxvaluedollarcnt_pred_glm'] = glm.predict(X_train)\n",
    "\n",
    "# evaluate: rmse\n",
    "rmse_train = mean_squared_error(y_train.taxvaluedollarcnt, y_train.taxvaluedollarcnt_pred_glm)**(1/2)\n",
    "\n",
    "# predict validate\n",
    "y_validate['taxvaluedollarcnt_pred_glm'] = glm.predict(X_validate)\n",
    "\n",
    "# evaluate: rmse\n",
    "rmse_validate = mean_squared_error(y_validate.taxvaluedollarcnt, y_validate.taxvaluedollarcnt_pred_glm)**(1/2)\n",
    "\n",
    "print(\"RMSE for GLM using Tweedie, power=1 & alpha=0\\nTraining/In-Sample: \", rmse_train, \n",
    "      \"\\nValidation/Out-of-Sample: \", rmse_validate)"
   ]
  },
  {
   "cell_type": "code",
   "execution_count": null,
   "id": "598fd0e3",
   "metadata": {},
   "outputs": [],
   "source": []
  },
  {
   "cell_type": "markdown",
   "id": "cb1873c5",
   "metadata": {},
   "source": [
    "## Conclusion Recommendations\n",
    "- Feature Engineering\n",
    "    - We can add this step to extract more information from our already existing data.  With new features implemented we can extract new information and more insights that may be able to improve our model accuracy."
   ]
  },
  {
   "cell_type": "markdown",
   "id": "52028c42",
   "metadata": {},
   "source": [
    "## Conclusion Next Steps\n",
    "\n",
    "- Drivers include: number of bathrooms, square feet, and bedroom count\n",
    "- With more time I would work on improving the model adding more parameters"
   ]
  },
  {
   "cell_type": "code",
   "execution_count": null,
   "id": "77a99d74",
   "metadata": {},
   "outputs": [],
   "source": []
  }
 ],
 "metadata": {
  "kernelspec": {
   "display_name": "Python 3",
   "language": "python",
   "name": "python3"
  },
  "language_info": {
   "codemirror_mode": {
    "name": "ipython",
    "version": 3
   },
   "file_extension": ".py",
   "mimetype": "text/x-python",
   "name": "python",
   "nbconvert_exporter": "python",
   "pygments_lexer": "ipython3",
   "version": "3.8.8"
  }
 },
 "nbformat": 4,
 "nbformat_minor": 5
}
